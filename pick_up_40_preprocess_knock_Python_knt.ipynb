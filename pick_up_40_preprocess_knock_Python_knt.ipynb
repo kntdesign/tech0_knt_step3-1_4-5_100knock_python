{
 "cells": [
  {
   "cell_type": "markdown",
   "metadata": {},
   "source": [
    "# データサイエンス100本ノック（構造化データ加工編） - Python"
   ]
  },
  {
   "cell_type": "markdown",
   "metadata": {},
   "source": [
    "## はじめに\n",
    "- 初めに以下のセルを実行してください\n",
    "- 必要なライブラリのインポートとデータベース（PostgreSQL）からのデータ読み込みを行います\n",
    "- pandas等、利用が想定されるライブラリは以下セルでインポートしています\n",
    "- その他利用したいライブラリがあれば適宜インストールしてください（\"!pip install ライブラリ名\"でインストールも可能）\n",
    "- 処理は複数回に分けても構いません\n",
    "- 名前、住所等はダミーデータであり、実在するものではありません"
   ]
  },
  {
   "cell_type": "code",
   "execution_count": 75,
   "metadata": {},
   "outputs": [
    {
     "name": "stderr",
     "output_type": "stream",
     "text": [
      "/Users/kento/opt/anaconda3/lib/python3.9/site-packages/IPython/core/interactiveshell.py:3444: DtypeWarning: Columns (4) have mixed types.Specify dtype option on import or set low_memory=False.\n",
      "  exec(code_obj, self.user_global_ns, self.user_ns)\n"
     ]
    }
   ],
   "source": [
    "import pandas as pd\n",
    "import numpy as np\n",
    "import math\n",
    "\n",
    "df_customer = pd.read_csv('data/customer.csv')\n",
    "df_category = pd.read_csv('data/category.csv')\n",
    "df_product = pd.read_csv('data/product.csv')\n",
    "df_receipt = pd.read_csv('data/receipt.csv')\n",
    "df_store = pd.read_csv('data/store.csv')\n",
    "df_geocode = pd.read_csv('data/geocode.csv')\n",
    "# df_geocode = pd.read_csv('data/geocode.csv', sep='\\t', converters={'town':str})"
   ]
  },
  {
   "cell_type": "markdown",
   "metadata": {},
   "source": [
    "# 演習問題"
   ]
  },
  {
   "cell_type": "markdown",
   "metadata": {},
   "source": [
    "---\n",
    "> ★P-003: レシート明細データ（df_receipt）から売上年月日（sales_ymd）、顧客ID（customer_id）、商品コード（product_cd）、売上金額（amount）の順に列を指定し、10件表示せよ。ただし、sales_ymdをsales_dateに項目名を変更して抽出すること。"
   ]
  },
  {
   "cell_type": "code",
   "execution_count": 19,
   "metadata": {},
   "outputs": [
    {
     "name": "stdout",
     "output_type": "stream",
     "text": [
      "   sales_date     customer_id  product_cd  amount\n",
      "0    20181103  CS006214000001  P070305012     158\n",
      "1    20181118  CS008415000097  P070701017      81\n",
      "2    20170712  CS028414000014  P060101005     170\n",
      "3    20190205  ZZ000000000000  P050301001      25\n",
      "4    20180821  CS025415000050  P060102007      90\n",
      "5    20190605  CS003515000195  P050102002     138\n",
      "6    20181205  CS024514000042  P080101005      30\n",
      "7    20190922  CS040415000178  P070501004     128\n",
      "8    20170504  ZZ000000000000  P071302010     770\n",
      "9    20191010  CS027514000015  P071101003     680\n"
     ]
    }
   ],
   "source": [
    "df_p_003 = df_receipt[['sales_ymd', 'customer_id', 'product_cd','amount']] #複数行を抽出する場合はdf[[]]となる\n",
    "df_p_003 = df_p_003.rename(columns={'sales_ymd':'sales_date'})\n",
    "print(df_p_003.head(10))"
   ]
  },
  {
   "cell_type": "markdown",
   "metadata": {},
   "source": [
    "---\n",
    ">★ P-007: レシート明細データ（df_receipt）から売上日（sales_ymd）、顧客ID（customer_id）、商品コード（product_cd）、売上金額（amount）の順に列を指定し、以下の全ての条件を満たすデータを抽出せよ。\n",
    "> - 顧客ID（customer_id）が\"CS018205000001\"\n",
    "> - 売上金額（amount）が1,000以上2,000以下"
   ]
  },
  {
   "cell_type": "code",
   "execution_count": 20,
   "metadata": {},
   "outputs": [
    {
     "name": "stdout",
     "output_type": "stream",
     "text": [
      "       sales_date     customer_id  product_cd  amount\n",
      "72254    20180911  CS018205000001  P071401005    1100\n"
     ]
    }
   ],
   "source": [
    "df_p_007 = df_receipt[['sales_ymd', 'customer_id', 'product_cd','amount']] \n",
    "df_p_007 = df_p_007.rename(columns={'sales_ymd':'sales_date'})\n",
    "df_p_007 = df_p_007[(df_p_007['customer_id'] == \"CS018205000001\") & (df_p_007['amount'] > 1000) & (df_p_007['amount'] < 2000)]\n",
    "print(df_p_007)"
   ]
  },
  {
   "cell_type": "markdown",
   "metadata": {},
   "source": [
    "---\n",
    ">★ P-013: 顧客データ（df_customer）から、ステータスコード（status_cd）の先頭がアルファベットのA〜Fで始まるデータを全項目抽出し、10件表示せよ。"
   ]
  },
  {
   "cell_type": "code",
   "execution_count": 21,
   "metadata": {},
   "outputs": [
    {
     "name": "stdout",
     "output_type": "stream",
     "text": [
      "       customer_id customer_name  gender_cd gender   birth_day  age postal_cd  \\\n",
      "2   CS031415000172       宇多田 貴美子          1     女性  1976-10-04   42  151-0053   \n",
      "6   CS015414000103         奥野 陽子          1     女性  1977-08-09   41  136-0073   \n",
      "12  CS011215000048         芦田 沙耶          1     女性  1992-02-01   27  223-0062   \n",
      "15  CS029415000023         梅田 里穂          1     女性  1976-01-17   43  279-0043   \n",
      "21  CS035415000029         寺沢 真希          9     不明  1977-09-27   41  158-0096   \n",
      "32  CS031415000106        宇野 由美子          1     女性  1970-02-26   49  151-0053   \n",
      "33  CS029215000025         石倉 美帆          1     女性  1993-09-28   25  279-0022   \n",
      "40  CS033605000005         猪股 雄太          0     男性  1955-12-05   63  246-0031   \n",
      "44  CS033415000229        板垣 菜々美          1     女性  1977-11-07   41  246-0021   \n",
      "53  CS008415000145         黒谷 麻緒          1     女性  1977-06-27   41  157-0067   \n",
      "\n",
      "                     address application_store_cd  application_date  \\\n",
      "2        東京都渋谷区代々木**********               S13031          20150529   \n",
      "6         東京都江東区北砂**********               S13015          20150722   \n",
      "12  神奈川県横浜市港北区日吉本町**********               S14011          20150228   \n",
      "15       千葉県浦安市富士見**********               S12029          20150610   \n",
      "21      東京都世田谷区玉川台**********               S13035          20141220   \n",
      "32       東京都渋谷区代々木**********               S13031          20150201   \n",
      "33        千葉県浦安市今川**********               S12029          20150708   \n",
      "40    神奈川県横浜市瀬谷区瀬谷**********               S14033          20150425   \n",
      "44  神奈川県横浜市瀬谷区二ツ橋町**********               S14033          20150712   \n",
      "53      東京都世田谷区喜多見**********               S13008          20150829   \n",
      "\n",
      "       status_cd  \n",
      "2   D-20100325-C  \n",
      "6   B-20100609-B  \n",
      "12  C-20100421-9  \n",
      "15  D-20100918-E  \n",
      "21  F-20101029-F  \n",
      "32  F-20100511-E  \n",
      "33  B-20100820-C  \n",
      "40  F-20100917-E  \n",
      "44  F-20100326-E  \n",
      "53  F-20100622-F  \n"
     ]
    }
   ],
   "source": [
    "df_p_013 = df_customer[(df_customer['status_cd'].str.startswith(('A','B','C','D','E','F')))] #startswithで複数の場合はタプル()で指定する\n",
    "print(df_p_013.head(10))"
   ]
  },
  {
   "cell_type": "markdown",
   "metadata": {},
   "source": [
    "---\n",
    "> ★P-016: 店舗データ（df_store）から、電話番号（tel_no）が3桁-3桁-4桁のデータを全項目表示せよ。\n"
   ]
  },
  {
   "cell_type": "code",
   "execution_count": 22,
   "metadata": {},
   "outputs": [
    {
     "name": "stdout",
     "output_type": "stream",
     "text": [
      "   store_cd store_name  prefecture_cd prefecture              address  \\\n",
      "0    S12014       千草台店             12        千葉県      千葉県千葉市稲毛区千草台一丁目   \n",
      "1    S13002       国分寺店             13        東京都         東京都国分寺市本多二丁目   \n",
      "2    S14010        菊名店             14       神奈川県      神奈川県横浜市港北区菊名一丁目   \n",
      "3    S14033       阿久和店             14       神奈川県    神奈川県横浜市瀬谷区阿久和西一丁目   \n",
      "4    S14036     相模原中央店             14       神奈川県        神奈川県相模原市中央二丁目   \n",
      "7    S14040       長津田店             14       神奈川県  神奈川県横浜市緑区長津田みなみ台五丁目   \n",
      "9    S14050      阿久和西店             14       神奈川県    神奈川県横浜市瀬谷区阿久和西一丁目   \n",
      "11   S13052        森野店             13        東京都          東京都町田市森野三丁目   \n",
      "12   S14028       二ツ橋店             14       神奈川県       神奈川県横浜市瀬谷区二ツ橋町   \n",
      "16   S14012      本牧和田店             14       神奈川県        神奈川県横浜市中区本牧和田   \n",
      "18   S14046       北山田店             14       神奈川県     神奈川県横浜市都筑区北山田一丁目   \n",
      "19   S14022        逗子店             14       神奈川県         神奈川県逗子市逗子一丁目   \n",
      "20   S14011      日吉本町店             14       神奈川県    神奈川県横浜市港北区日吉本町四丁目   \n",
      "21   S13016       小金井店             13        東京都         東京都小金井市本町一丁目   \n",
      "22   S14034      川崎野川店             14       神奈川県         神奈川県川崎市宮前区野川   \n",
      "26   S14048      中川中央店             14       神奈川県    神奈川県横浜市都筑区中川中央二丁目   \n",
      "27   S12007        佐倉店             12        千葉県            千葉県佐倉市上志津   \n",
      "28   S14026     辻堂西海岸店             14       神奈川県      神奈川県藤沢市辻堂西海岸二丁目   \n",
      "29   S13041       八王子店             13        東京都            東京都八王子市大塚   \n",
      "31   S14049      川崎大師店             14       神奈川県      神奈川県川崎市川崎区中瀬三丁目   \n",
      "32   S14023        川崎店             14       神奈川県      神奈川県川崎市川崎区本町二丁目   \n",
      "33   S13018        清瀬店             13        東京都          東京都清瀬市松山一丁目   \n",
      "35   S14027       南藤沢店             14       神奈川県           神奈川県藤沢市南藤沢   \n",
      "36   S14021       伊勢原店             14       神奈川県       神奈川県伊勢原市伊勢原四丁目   \n",
      "37   S14047       相模原店             14       神奈川県       神奈川県相模原市千代田六丁目   \n",
      "38   S12013       習志野店             12        千葉県         千葉県習志野市芝園一丁目   \n",
      "40   S14042       新山下店             14       神奈川県      神奈川県横浜市中区新山下二丁目   \n",
      "42   S12030        八幡店             12        千葉県          千葉県市川市八幡三丁目   \n",
      "44   S14025        大和店             14       神奈川県           神奈川県大和市下和田   \n",
      "45   S14045        厚木店             14       神奈川県         神奈川県厚木市中町二丁目   \n",
      "47   S12029        東野店             12        千葉県          千葉県浦安市東野一丁目   \n",
      "49   S12053        高洲店             12        千葉県          千葉県浦安市高洲五丁目   \n",
      "51   S14024        三田店             14       神奈川県      神奈川県川崎市多摩区三田四丁目   \n",
      "52   S14006       葛が谷店             14       神奈川県        神奈川県横浜市都筑区葛が谷   \n",
      "\n",
      "                      address_kana        tel_no  longitude  latitude  \\\n",
      "0           チバケンチバシイナゲクチグサダイイッチョウメ  043-123-4003   140.1180  35.63559   \n",
      "1             トウキョウトコクブンジシホンダニチョウメ  042-123-4008   139.4802  35.70566   \n",
      "2        カナガワケンヨコハマシコウホククキクナイッチョウメ  045-123-4032   139.6326  35.50049   \n",
      "3        カナガワケンヨコハマシセヤクアクワニシイッチョウメ  045-123-4043   139.4961  35.45918   \n",
      "4           カナガワケンサガミハラシチュウオウニチョウメ  042-123-4045   139.3716  35.57327   \n",
      "7    カナガワケンヨコハマシミドリクナガツタミナミダイゴチョウメ  045-123-4046   139.4994  35.52398   \n",
      "9        カナガワケンヨコハマシセヤクアクワニシイッチョウメ  045-123-4053   139.4961  35.45918   \n",
      "11             トウキョウトマチダシモリノサンチョウメ  042-123-4030   139.4383  35.55293   \n",
      "12          カナガワケンヨコハマシセヤクフタツバシチョウ  045-123-4042   139.4963  35.46304   \n",
      "16            カナガワケンヨコハマシナカクホンモクワダ  045-123-4034   139.6582  35.42156   \n",
      "18      カナガワケンヨコハマシツヅキクキタヤマタイッチョウメ  045-123-4049   139.5916  35.56189   \n",
      "19               カナガワケンズシシズシイッチョウメ  046-123-4036   139.5789  35.29642   \n",
      "20  カナガワケンヨコハマシコウホククヒヨシホンチョウヨンチョウメ  045-123-4033   139.6316  35.54655   \n",
      "21          トウキョウトコガネイシホンチョウイッチョウメ  042-123-4015   139.5094  35.70018   \n",
      "22             カナガワケンカワサキシミヤマエクノガワ  044-123-4044   139.5998  35.57693   \n",
      "26   カナガワケンヨコハマシツヅキクナカガワチュウオウニチョウメ  045-123-4051   139.5758  35.54912   \n",
      "27                    チバケンサクラシカミシヅ  043-123-4001   140.1452  35.71872   \n",
      "28      カナガワケンフジサワシツジドウニシカイガンニチョウメ  046-123-4040   139.4466  35.32464   \n",
      "29                トウキョウトハチオウジシオオツカ  042-123-4026   139.4235  35.63787   \n",
      "31       カナガワケンカワサキシカワサキクナカゼサンチョウメ  044-123-4052   139.7327  35.53759   \n",
      "32      カナガワケンカワサキシカワサキクホンチョウニチョウメ  044-123-4037   139.7028  35.53599   \n",
      "33            トウキョウトキヨセシマツヤマイッチョウメ  042-123-4017   139.5178  35.76885   \n",
      "35              カナガワケンフジサワシミナミフジサワ  046-123-4041   139.4896  35.33762   \n",
      "36           カナガワケンイセハラシイセハラヨンチョウメ  046-123-4035   139.3129  35.40169   \n",
      "37           カナガワケンサガミハラシチヨダロクチョウメ  042-123-4050   139.3748  35.55959   \n",
      "38             チバケンナラシノシシバゾノイッチョウメ  047-123-4002   140.0220  35.66122   \n",
      "40       カナガワケンヨコハマシナカクシンヤマシタニチョウメ  045-123-4047   139.6593  35.43894   \n",
      "42              チバケンイチカワシヤワタサンチョウメ  047-123-4005   139.9240  35.72318   \n",
      "44                  カナガワケンヤマトシシモワダ  046-123-4039   139.4680  35.43414   \n",
      "45            カナガワケンアツギシナカチョウニチョウメ  046-123-4048   139.3651  35.44182   \n",
      "47             チバケンウラヤスシヒガシノイッチョウメ  047-123-4004   139.8968  35.65086   \n",
      "49               チバケンウラヤスシタカスゴチョウメ  047-123-4006   139.9176  35.63755   \n",
      "51          カナガワケンカワサキシタマクミタヨンチョウメ  044-123-4038   139.5424  35.60770   \n",
      "52             カナガワケンヨコハマシツヅキククズガヤ  045-123-4031   139.5633  35.53573   \n",
      "\n",
      "    floor_area  \n",
      "0       1698.0  \n",
      "1       1735.0  \n",
      "2       1732.0  \n",
      "3       1495.0  \n",
      "4       1679.0  \n",
      "7       1548.0  \n",
      "9       1830.0  \n",
      "11      1087.0  \n",
      "12      1574.0  \n",
      "16      1341.0  \n",
      "18       831.0  \n",
      "19      1838.0  \n",
      "20       890.0  \n",
      "21      1399.0  \n",
      "22      1318.0  \n",
      "26      1657.0  \n",
      "27      1895.0  \n",
      "28      1732.0  \n",
      "29       810.0  \n",
      "31       962.0  \n",
      "32      1804.0  \n",
      "33      1220.0  \n",
      "35      1521.0  \n",
      "36       962.0  \n",
      "37      1047.0  \n",
      "38       808.0  \n",
      "40      1044.0  \n",
      "42      1162.0  \n",
      "44      1011.0  \n",
      "45       980.0  \n",
      "47      1101.0  \n",
      "49      1555.0  \n",
      "51       972.0  \n",
      "52      1886.0  \n"
     ]
    }
   ],
   "source": [
    "pattern = \"\\d{3}-\\d{3}-\\d{4}\" #正規表現を用いて電話番号を指定する（\\d：数字, {n}：n回繰り返し）\n",
    "df_p_016 = df_store[df_store['tel_no'].str.contains(pattern)]\n",
    "print(df_p_016)"
   ]
  },
  {
   "cell_type": "markdown",
   "metadata": {},
   "source": [
    "---\n",
    ">★ P-022: レシート明細データ（df_receipt）の顧客ID（customer_id）に対し、ユニーク件数をカウントせよ。"
   ]
  },
  {
   "cell_type": "code",
   "execution_count": 23,
   "metadata": {},
   "outputs": [
    {
     "name": "stdout",
     "output_type": "stream",
     "text": [
      "8307\n"
     ]
    }
   ],
   "source": [
    "df_p_022 = df_receipt['customer_id'].nunique()\n",
    "print(df_p_022)\n"
   ]
  },
  {
   "cell_type": "markdown",
   "metadata": {},
   "source": [
    "---\n",
    ">★ P-026: レシート明細データ（df_receipt）に対し、顧客ID（customer_id）ごとに最も新しい売上年月日（sales_ymd）と古い売上年月日を求め、両者が異なるデータを10件表示せよ。"
   ]
  },
  {
   "cell_type": "code",
   "execution_count": 54,
   "metadata": {},
   "outputs": [
    {
     "data": {
      "text/html": [
       "<div>\n",
       "<style scoped>\n",
       "    .dataframe tbody tr th:only-of-type {\n",
       "        vertical-align: middle;\n",
       "    }\n",
       "\n",
       "    .dataframe tbody tr th {\n",
       "        vertical-align: top;\n",
       "    }\n",
       "\n",
       "    .dataframe thead th {\n",
       "        text-align: right;\n",
       "    }\n",
       "</style>\n",
       "<table border=\"1\" class=\"dataframe\">\n",
       "  <thead>\n",
       "    <tr style=\"text-align: right;\">\n",
       "      <th></th>\n",
       "      <th>customer_id</th>\n",
       "      <th>sales_ymd_max</th>\n",
       "      <th>sales_ymd_min</th>\n",
       "    </tr>\n",
       "  </thead>\n",
       "  <tbody>\n",
       "    <tr>\n",
       "      <th>1</th>\n",
       "      <td>CS001114000005</td>\n",
       "      <td>20190731</td>\n",
       "      <td>20180503</td>\n",
       "    </tr>\n",
       "    <tr>\n",
       "      <th>2</th>\n",
       "      <td>CS001115000010</td>\n",
       "      <td>20190405</td>\n",
       "      <td>20171228</td>\n",
       "    </tr>\n",
       "    <tr>\n",
       "      <th>3</th>\n",
       "      <td>CS001205000004</td>\n",
       "      <td>20190625</td>\n",
       "      <td>20170914</td>\n",
       "    </tr>\n",
       "    <tr>\n",
       "      <th>4</th>\n",
       "      <td>CS001205000006</td>\n",
       "      <td>20190224</td>\n",
       "      <td>20180207</td>\n",
       "    </tr>\n",
       "    <tr>\n",
       "      <th>13</th>\n",
       "      <td>CS001214000009</td>\n",
       "      <td>20190902</td>\n",
       "      <td>20170306</td>\n",
       "    </tr>\n",
       "    <tr>\n",
       "      <th>14</th>\n",
       "      <td>CS001214000017</td>\n",
       "      <td>20191006</td>\n",
       "      <td>20180828</td>\n",
       "    </tr>\n",
       "    <tr>\n",
       "      <th>16</th>\n",
       "      <td>CS001214000048</td>\n",
       "      <td>20190929</td>\n",
       "      <td>20171109</td>\n",
       "    </tr>\n",
       "    <tr>\n",
       "      <th>17</th>\n",
       "      <td>CS001214000052</td>\n",
       "      <td>20190617</td>\n",
       "      <td>20180208</td>\n",
       "    </tr>\n",
       "    <tr>\n",
       "      <th>20</th>\n",
       "      <td>CS001215000005</td>\n",
       "      <td>20181021</td>\n",
       "      <td>20170206</td>\n",
       "    </tr>\n",
       "    <tr>\n",
       "      <th>21</th>\n",
       "      <td>CS001215000040</td>\n",
       "      <td>20171022</td>\n",
       "      <td>20170214</td>\n",
       "    </tr>\n",
       "  </tbody>\n",
       "</table>\n",
       "</div>"
      ],
      "text/plain": [
       "       customer_id  sales_ymd_max  sales_ymd_min\n",
       "1   CS001114000005       20190731       20180503\n",
       "2   CS001115000010       20190405       20171228\n",
       "3   CS001205000004       20190625       20170914\n",
       "4   CS001205000006       20190224       20180207\n",
       "13  CS001214000009       20190902       20170306\n",
       "14  CS001214000017       20191006       20180828\n",
       "16  CS001214000048       20190929       20171109\n",
       "17  CS001214000052       20190617       20180208\n",
       "20  CS001215000005       20181021       20170206\n",
       "21  CS001215000040       20171022       20170214"
      ]
     },
     "execution_count": 54,
     "metadata": {},
     "output_type": "execute_result"
    }
   ],
   "source": [
    "df_p_026 = df_receipt.groupby('customer_id').agg({'sales_ymd':['max','min']}).reset_index()\n",
    "\n",
    "# カラム名を変更\n",
    "df_p_026.columns = ['customer_id', 'sales_ymd_max', 'sales_ymd_min']\n",
    "\n",
    "# 売上年月日が異なるデータを10件表示\n",
    "df_p_026.query('sales_ymd_max != sales_ymd_min').head(10)\n",
    "\n",
    "\n",
    "\n",
    "# 過去回答（不正解）\n",
    "# # 顧客ID（customer_id）ごとに最も新しい売上年月日（sales_ymd）と古い売上年月日を求める\n",
    "# df_p_026_group = pd.DataFrame()\n",
    "# df_p_026_group['recent_ymd'] = df_receipt.groupby('customer_id')['sales_ymd'].max()\n",
    "# df_p_026_group['old_ymd'] = df_receipt.groupby('customer_id')['sales_ymd'].min()\n",
    "\n",
    "# # 売上年月日が異なるデータの'customer_id''recent_ymd''old_ymd'でDataFrameを新規作成する\n",
    "# df_p_026_extract = pd.DataFrame()\n",
    "# df_p_026_extract = df_p_026_group[~df_p_026_group['recent_ymd'].isin(df_p_026_group['old_ymd'])]\n",
    "# df_p_026_extract['customer_id'] = df_p_026_extract.index #customer_idがindexとなっているので、列として追加し直す\n",
    "# df_p_026_extract.reset_index(inplace=True, drop=True) #indexを振り直しておく\n",
    "\n",
    "# #新規作成したDataFrameをもとに、本来のDataFrameからデータを抽出する\n",
    "# df_p_026_extract_list = df_p_026_extract['customer_id']\n",
    "# df_p_026 = df_receipt[df_receipt['customer_id'].isin(df_p_026_extract_list)]\n",
    "# print(df_p_026.head(10))\n"
   ]
  },
  {
   "cell_type": "markdown",
   "metadata": {},
   "source": [
    "---\n",
    ">★ P-027: レシート明細データ（df_receipt）に対し、店舗コード（store_cd）ごとに売上金額（amount）の平均を計算し、降順でTOP5を表示せよ。"
   ]
  },
  {
   "cell_type": "code",
   "execution_count": 25,
   "metadata": {},
   "outputs": [
    {
     "name": "stdout",
     "output_type": "stream",
     "text": [
      "    amount_avg store_cd\n",
      "28  402.867470   S13052\n",
      "12  351.111960   S13015\n",
      "7   350.915519   S13003\n",
      "30  348.791262   S14010\n",
      "5   348.470386   S13001\n"
     ]
    }
   ],
   "source": [
    "# 店舗コード（store_cd）ごとに売上金額（amount）の平均を計算する\n",
    "df_p_027_group = pd.DataFrame()\n",
    "df_p_027_group['amount_avg'] = df_receipt.groupby('store_cd')['amount'].mean()\n",
    "df_p_027_group['store_cd'] = df_p_027_group.index #store_cdがindexとなっているので、列として追加し直す\n",
    "df_p_027_group.reset_index(inplace=True, drop=True) #indexを振り直しておく\n",
    "\n",
    "#降順でTOP5を表示する\n",
    "df_p_027 = df_p_027_group.sort_values(by='amount_avg', ascending=False).head(5)\n",
    "print(df_p_027)\n"
   ]
  },
  {
   "cell_type": "markdown",
   "metadata": {},
   "source": [
    "---\n",
    "> ★P-036: レシート明細データ（df_receipt）と店舗データ（df_store）を内部結合し、レシート明細データの全項目と店舗データの店舗名（store_name）を10件表示せよ。"
   ]
  },
  {
   "cell_type": "code",
   "execution_count": 26,
   "metadata": {},
   "outputs": [
    {
     "name": "stdout",
     "output_type": "stream",
     "text": [
      "   sales_ymd  sales_epoch store_cd  receipt_no  receipt_sub_no  \\\n",
      "0   20181103   1541203200   S14006         112               1   \n",
      "1   20181116   1542326400   S14006         112               2   \n",
      "2   20170118   1484697600   S14006        1162               1   \n",
      "3   20190524   1558656000   S14006        1192               1   \n",
      "4   20190419   1555632000   S14006         112               2   \n",
      "5   20181119   1542585600   S14006        1152               2   \n",
      "6   20171211   1512950400   S14006        1132               2   \n",
      "7   20191021   1571616000   S14006        1112               2   \n",
      "8   20170710   1499644800   S14006        1132               2   \n",
      "9   20190805   1564963200   S14006         112               1   \n",
      "\n",
      "      customer_id  product_cd  quantity  amount store_name  \n",
      "0  CS006214000001  P070305012         1     158       葛が谷店  \n",
      "1  ZZ000000000000  P080401001         1      48       葛が谷店  \n",
      "2  CS006815000006  P050406035         1     220       葛が谷店  \n",
      "3  CS006514000034  P060104003         1      80       葛が谷店  \n",
      "4  ZZ000000000000  P060501002         1     148       葛が谷店  \n",
      "5  ZZ000000000000  P050701001         1      88       葛が谷店  \n",
      "6  CS006515000175  P090903001         1      80       葛が谷店  \n",
      "7  CS006415000221  P040602001         1     405       葛が谷店  \n",
      "8  CS006411000036  P090301051         1     330       葛が谷店  \n",
      "9  CS006211000012  P050104001         1     115       葛が谷店  \n"
     ]
    }
   ],
   "source": [
    "#レシート明細データ（df_receipt）と店舗データ（df_store）を店舗コード（store_cd）で内部結合する\n",
    "df_p_036_merge = pd.DataFrame()\n",
    "df_p_036_merge = df_receipt.merge(df_store, on='store_cd', how='inner')\n",
    "# print(df_p_036_merge.head(10))\n",
    "\n",
    "#レシート明細データの全項目と店舗データの店舗名（store_name）に絞り、10件のみ表示される\n",
    "df_p_036_columns = list(df_receipt.columns.values) + [\"store_name\"]\n",
    "df_p_036 = df_p_036_merge[df_p_036_columns]\n",
    "print(df_p_036.head(10))\n"
   ]
  },
  {
   "cell_type": "markdown",
   "metadata": {},
   "source": [
    "---\n",
    ">★ P-045: 顧客データ（df_customer）の生年月日（birth_day）は日付型でデータを保有している。これをYYYYMMDD形式の文字列に変換し、顧客ID（customer_id）とともに10件表示せよ。"
   ]
  },
  {
   "cell_type": "code",
   "execution_count": 27,
   "metadata": {},
   "outputs": [
    {
     "name": "stdout",
     "output_type": "stream",
     "text": [
      "      customer_id birth_day\n",
      "0  CS021313000114  19810429\n",
      "1  CS037613000071  19520401\n",
      "2  CS031415000172  19761004\n",
      "3  CS028811000001  19330327\n",
      "4  CS001215000145  19950329\n",
      "5  CS020401000016  19740915\n",
      "6  CS015414000103  19770809\n",
      "7  CS029403000008  19730817\n",
      "8  CS015804000004  19310502\n",
      "9  CS033513000180  19620711\n"
     ]
    }
   ],
   "source": [
    "df_p_045 = pd.DataFrame()\n",
    "df_p_045 = df_customer\n",
    "\n",
    "#生年月日（birth_day）を日付型からYYYYMMDD形式の文字列に変換\n",
    "df_p_045['birth_day'] = pd.to_datetime(df_customer['birth_day']).dt.strftime(\"%Y%m%d\")\n",
    "print(df_p_045[['customer_id','birth_day']].head(10))"
   ]
  },
  {
   "cell_type": "markdown",
   "metadata": {},
   "source": [
    "---\n",
    "> ★P-051: レシート明細データ（df_receipt）の売上エポック秒を日付型に変換し、「日」だけ取り出してレシート番号(receipt_no)、レシートサブ番号（receipt_sub_no）とともに10件表示せよ。なお、「日」は0埋め2桁で取り出すこと。"
   ]
  },
  {
   "cell_type": "code",
   "execution_count": 62,
   "metadata": {},
   "outputs": [
    {
     "name": "stdout",
     "output_type": "stream",
     "text": [
      "   receipt_no  receipt_sub_no sales_day\n",
      "0         112               1        03\n",
      "1        1132               2        18\n",
      "2        1102               1        12\n",
      "3        1132               1        05\n",
      "4        1102               2        21\n",
      "5        1112               1        05\n",
      "6        1102               2        05\n",
      "7        1102               1        22\n",
      "8        1112               2        04\n",
      "9        1102               1        10\n"
     ]
    }
   ],
   "source": [
    "df_p_051 = pd.DataFrame()\n",
    "\n",
    "# エポック秒になっているので、unit='s'を指定する\n",
    "df_p_051_time = pd.to_datetime(df_receipt['sales_epoch'], unit='s').rename('sales_day')\n",
    "df_p_051 = pd.concat([df_receipt[['receipt_no', 'receipt_sub_no']],df_p_051_time.dt.strftime('%d')], axis=1)\n",
    "\n",
    "print(df_p_051.head(10))\n",
    "\n",
    "# 過去回答（不正解）\n",
    "# df_p_051 = pd.DataFrame()\n",
    "# df_p_051 = df_receipt\n",
    "\n",
    "# #レシート明細データ（df_receipt）の売上エポック秒を日付型に変換する\n",
    "# df_p_051['sales_epoch'] = pd.to_datetime(df_receipt['sales_epoch']).dt.strftime(\"%Y%m%d\")\n",
    "\n",
    "# #「日」だけ取り出し、0埋め2桁で取り出すこと\n",
    "# df_p_051['sales_epoch_day'] = pd.to_datetime(df_receipt['sales_epoch']).dt.strftime(\"%d\")\n",
    "\n",
    "# #レシート番号(receipt_no)、レシートサブ番号（receipt_sub_no）とともに10件表示せよ。「日」は0埋め2桁で表示する。\n",
    "# print(df_p_051[['receipt_no','receipt_sub_no','sales_epoch_day']].head(10))\n"
   ]
  },
  {
   "cell_type": "markdown",
   "metadata": {},
   "source": [
    "---\n",
    ">★ P-052: レシート明細データ（df_receipt）の売上金額（amount）を顧客ID（customer_id）ごとに合計の上、売上金額合計に対して2,000円以下を0、2,000円より大きい金額を1に二値化し、顧客ID、売上金額合計とともに10件表示せよ。ただし、顧客IDが\"Z\"から始まるのものは非会員を表すため、除外して計算すること。"
   ]
  },
  {
   "cell_type": "code",
   "execution_count": 64,
   "metadata": {},
   "outputs": [
    {
     "name": "stdout",
     "output_type": "stream",
     "text": [
      "      customer_id  amount_sum  amount_flag\n",
      "0  CS001113000004        1298            0\n",
      "1  CS001114000005         626            0\n",
      "2  CS001115000010        3044            1\n",
      "3  CS001205000004        1988            0\n",
      "4  CS001205000006        3337            1\n",
      "5  CS001211000025         456            0\n",
      "6  CS001212000027         448            0\n",
      "7  CS001212000031         296            0\n",
      "8  CS001212000046         228            0\n",
      "9  CS001212000070         456            0\n"
     ]
    }
   ],
   "source": [
    "df_p_052 = pd.DataFrame()\n",
    "df_p_052_group = pd.DataFrame()\n",
    "\n",
    "#レシート明細データ（df_receipt）の売上金額（amount）を顧客ID（customer_id）ごとに合計する\n",
    "df_p_052_group['amount_sum'] = df_receipt.groupby('customer_id')['amount'].sum()\n",
    "df_p_052_group['customer_id'] = df_p_052_group.index #store_cdがindexとなっているので、列として追加し直す\n",
    "df_p_052_group.reset_index(inplace=True, drop=True) #indexを振り直しておく\n",
    "\n",
    "#売上金額合計で二値化する：2,000円以下を0/2,000円より大きい金額を1\n",
    "#loc関数：行と列のラベルを指定し、その要素を取得または変更する\n",
    "df_p_052_group.loc[(df_p_052_group['amount_sum'] > 2000), 'amount_flag'] = 1\n",
    "df_p_052_group.loc[(df_p_052_group['amount_sum'] <= 2000), 'amount_flag'] = 0\n",
    "df_p_052_group['amount_flag'] = df_p_052_group['amount_flag'].astype(int)\n",
    "\n",
    "#顧客IDが\"Z\"から始まるのものは非会員を表すため、除外処理を行う\n",
    "#顧客ID、売上金額合計とともに10件表示する\n",
    "df_p_052 = df_p_052_group.query('not customer_id.str.startswith(\"Z\")', engine='python')\n",
    "df_p_052 = df_p_052.reindex(columns=['customer_id','amount_sum','amount_flag'])\n",
    "print(df_p_052.head(10))\n"
   ]
  },
  {
   "cell_type": "markdown",
   "metadata": {},
   "source": [
    "---\n",
    ">★ P-053: 顧客データ（df_customer）の郵便番号（postal_cd）に対し、東京（先頭3桁が100〜209のもの）を1、それ以外のものを0に二値化せよ。さらにレシート明細データ（df_receipt）と結合し、全期間において売上実績のある顧客数を、作成した二値ごとにカウントせよ。"
   ]
  },
  {
   "cell_type": "code",
   "execution_count": 65,
   "metadata": {},
   "outputs": [
    {
     "name": "stdout",
     "output_type": "stream",
     "text": [
      "postal_cd_flag\n",
      "0    3906\n",
      "1    4400\n",
      "Name: customer_id, dtype: int64\n"
     ]
    }
   ],
   "source": [
    "df_p_053 = pd.DataFrame()\n",
    "df_p_053_df_customer = pd.DataFrame()\n",
    "df_p_053_merge = pd.DataFrame()\n",
    "\n",
    "# 顧客データ（df_customer）の郵便番号（postal_cd）から先頭3桁を抜き出し、int型に変換\n",
    "df_p_053_df_customer = df_customer\n",
    "df_p_053_df_customer['postal_cd_prefecture'] = df_p_053_df_customer['postal_cd'].str[:3]\n",
    "df_p_053_df_customer['postal_cd_prefecture'] = df_p_053_df_customer['postal_cd_prefecture'].astype(int)\n",
    "\n",
    "# 東京（先頭3桁が100〜209のもの）を1、それ以外を0に二値化する\n",
    "df_p_053_df_customer.loc[((df_p_053_df_customer['postal_cd_prefecture'] >= 100) & (df_p_053_df_customer['postal_cd_prefecture'] <= 209)), 'postal_cd_flag'] = 1\n",
    "df_p_053_df_customer.loc[(df_p_053_df_customer['postal_cd_flag'] != 1), 'postal_cd_flag'] = 0\n",
    "df_p_053_df_customer['postal_cd_flag'] = df_p_053_df_customer['postal_cd_flag'].astype(int)\n",
    "\n",
    "# レシート明細データ（df_receipt）と結合する\n",
    "df_p_053_merge = df_receipt.merge(df_p_053_df_customer, on='customer_id', how='inner')\n",
    "\n",
    "# 全期間において売上実績のある顧客数を、作成した二値ごとにカウントする\n",
    "print(df_p_053_merge.groupby('postal_cd_flag')['customer_id'].nunique())\n"
   ]
  },
  {
   "cell_type": "markdown",
   "metadata": {},
   "source": [
    "---\n",
    ">★ P-054: 顧客データ（df_customer）の住所（address）は、埼玉県、千葉県、東京都、神奈川県のいずれかとなっている。都道府県毎にコード値を作成し、顧客ID、住所とともに10件表示せよ。値は埼玉県を11、千葉県を12、東京都を13、神奈川県を14とすること。"
   ]
  },
  {
   "cell_type": "code",
   "execution_count": 31,
   "metadata": {},
   "outputs": [
    {
     "name": "stdout",
     "output_type": "stream",
     "text": [
      "      customer_id                 address  prefecture_cd\n",
      "0  CS021313000114    神奈川県伊勢原市粟窪**********             14\n",
      "1  CS037613000071      東京都江東区南砂**********             13\n",
      "2  CS031415000172     東京都渋谷区代々木**********             13\n",
      "3  CS028811000001  神奈川県横浜市泉区和泉町**********             14\n",
      "4  CS001215000145     東京都大田区仲六郷**********             13\n",
      "5  CS020401000016      東京都板橋区若木**********             13\n",
      "6  CS015414000103      東京都江東区北砂**********             13\n",
      "7  CS029403000008      千葉県浦安市海楽**********             12\n",
      "8  CS015804000004      東京都江東区北砂**********             13\n",
      "9  CS033513000180  神奈川県横浜市旭区善部町**********             14\n"
     ]
    }
   ],
   "source": [
    "df_p_054 = pd.DataFrame()\n",
    "df_p_054_df_customer = pd.DataFrame()\n",
    "\n",
    "# 顧客データ（df_customer）の住所（address）をもとに都道府県コードを割り当てる / 埼玉県:11、千葉県:12、東京都:13、神奈川県:14\n",
    "df_p_054_df_customer = df_customer\n",
    "df_p_054_df_customer.loc[((df_p_054_df_customer['address'].str.contains('埼玉県'))),'prefecture_cd'] = 11\n",
    "df_p_054_df_customer.loc[((df_p_054_df_customer['address'].str.contains('千葉県'))),'prefecture_cd'] = 12\n",
    "df_p_054_df_customer.loc[((df_p_054_df_customer['address'].str.contains('東京都'))),'prefecture_cd'] = 13\n",
    "df_p_054_df_customer.loc[((df_p_054_df_customer['address'].str.contains('神奈川県'))),'prefecture_cd'] = 14\n",
    "df_p_054_df_customer['prefecture_cd'] = df_p_054_df_customer['prefecture_cd'].astype(int)\n",
    "\n",
    "df_p_054 = df_p_054_df_customer\n",
    "\n",
    "# 顧客ID、住所とともに10件表示する\n",
    "print(df_p_054[['customer_id','address','prefecture_cd']].head(10))"
   ]
  },
  {
   "cell_type": "markdown",
   "metadata": {},
   "source": [
    "---\n",
    ">★ P-055: レシート明細（df_receipt）データの売上金額（amount）を顧客ID（customer_id）ごとに合計し、その合計金額の四分位点を求めよ。その上で、顧客ごとの売上金額合計に対して以下の基準でカテゴリ値を作成し、顧客ID、売上金額合計とともに10件表示せよ。カテゴリ値は順に1〜4とする。\n",
    ">\n",
    "> - 最小値以上第1四分位未満 ・・・ 1を付与\n",
    "> - 第1四分位以上第2四分位未満 ・・・ 2を付与\n",
    "> - 第2四分位以上第3四分位未満 ・・・ 3を付与\n",
    "> - 第3四分位以上 ・・・ 4を付与"
   ]
  },
  {
   "cell_type": "code",
   "execution_count": 32,
   "metadata": {},
   "outputs": [
    {
     "name": "stdout",
     "output_type": "stream",
     "text": [
      "      customer_id  amount_sum  category\n",
      "0  CS001113000004        1298         2\n",
      "1  CS001114000005         626         2\n",
      "2  CS001115000010        3044         3\n",
      "3  CS001205000004        1988         3\n",
      "4  CS001205000006        3337         3\n",
      "5  CS001211000025         456         1\n",
      "6  CS001212000027         448         1\n",
      "7  CS001212000031         296         1\n",
      "8  CS001212000046         228         1\n",
      "9  CS001212000070         456         1\n"
     ]
    }
   ],
   "source": [
    "df_p_055 = pd.DataFrame()\n",
    "df_p_055_group = pd.DataFrame()\n",
    "\n",
    "# レシート明細（df_receipt）データの売上金額（amount）を顧客ID（customer_id）ごとに合計する\n",
    "df_p_055_group['amount_sum'] = df_receipt.groupby('customer_id')['amount'].sum()\n",
    "df_p_055_group['customer_id'] = df_p_055_group.index #store_cdがindexとなっているので、列として追加し直す\n",
    "df_p_055_group.reset_index(inplace=True, drop=True) #indexを振り直しておく\n",
    "# print(df_p_055_group.head(20))\n",
    "\n",
    "# 合計金額の四分位点を求める\n",
    "df_p_055_quantile = df_p_055_group['amount_sum'].quantile([0, 0.25, 0.5, 0.75, 1.0])\n",
    "p_055_quantile_min = df_p_055_quantile.loc[0.00]\n",
    "p_055_quantile_1st = df_p_055_quantile.loc[0.25]\n",
    "p_055_quantile_2nd = df_p_055_quantile.loc[0.50]\n",
    "p_055_quantile_3rd = df_p_055_quantile.loc[0.75]\n",
    "# print(df_p_055_quantile)\n",
    "# print(p_055_quantile_min)\n",
    "\n",
    "# 顧客ごとの売上金額合計に対してカテゴリ値を作成する / 最小値以上第1四分位未満:1、第1四分位以上第2四分位未満:2、第2四分位以上第3四分位未満:3、第3四分位以上:4\n",
    "df_p_055_group.loc[((df_p_055_group['amount_sum'] >= p_055_quantile_min) & (df_p_055_group['amount_sum'] < p_055_quantile_1st)),'category'] = 1\n",
    "df_p_055_group.loc[((df_p_055_group['amount_sum'] >= p_055_quantile_1st) & (df_p_055_group['amount_sum'] < p_055_quantile_2nd)),'category'] = 2\n",
    "df_p_055_group.loc[((df_p_055_group['amount_sum'] >= p_055_quantile_2nd) & (df_p_055_group['amount_sum'] < p_055_quantile_3rd)),'category'] = 3\n",
    "df_p_055_group.loc[((df_p_055_group['amount_sum'] >= p_055_quantile_3rd)),'category'] = 4\n",
    "df_p_055_group['category'] = df_p_055_group['category'].astype(int)\n",
    "\n",
    "# カラムの整列\n",
    "df_p_055 = df_p_055_group.reindex(columns=['customer_id','amount_sum','category'])\n",
    "\n",
    "# 顧客IDと売上金額合計とカテゴリ値を10件表示する\n",
    "print(df_p_055.head(10))"
   ]
  },
  {
   "cell_type": "markdown",
   "metadata": {},
   "source": [
    "---\n",
    "> ★P-056: 顧客データ（df_customer）の年齢（age）をもとに10歳刻みで年代を算出し、顧客ID（customer_id）、生年月日（birth_day）とともに10件表示せよ。ただし、60歳以上は全て60歳代とすること。年代を表すカテゴリ名は任意とする。"
   ]
  },
  {
   "cell_type": "code",
   "execution_count": 66,
   "metadata": {},
   "outputs": [
    {
     "name": "stdout",
     "output_type": "stream",
     "text": [
      "      customer_id   birth_day age_category\n",
      "0  CS021313000114  1981-04-29          30s\n",
      "1  CS037613000071  1952-04-01      over60s\n",
      "2  CS031415000172  1976-10-04          40s\n",
      "3  CS028811000001  1933-03-27      over60s\n",
      "4  CS001215000145  1995-03-29          20s\n",
      "5  CS020401000016  1974-09-15          40s\n",
      "6  CS015414000103  1977-08-09          40s\n",
      "7  CS029403000008  1973-08-17          40s\n",
      "8  CS015804000004  1931-05-02      over60s\n",
      "9  CS033513000180  1962-07-11          50s\n"
     ]
    }
   ],
   "source": [
    "df_p_056 = pd.DataFrame()\n",
    "df_p_056 = df_customer\n",
    "\n",
    "# 顧客データ（df_customer）の年齢（age）をもとに10歳刻みで年代を算出する\n",
    "# 60歳以上は全て60歳代とし、年代を表すカテゴリ名は任意\n",
    "df_p_056.loc[((df_p_056['age'] >= 0) & (df_p_056['age'] < 10)),'age_category'] = '0s'\n",
    "df_p_056.loc[((df_p_056['age'] >= 10) & (df_p_056['age'] < 20)),'age_category'] = '10s'\n",
    "df_p_056.loc[((df_p_056['age'] >= 20) & (df_p_056['age'] < 30)),'age_category'] = '20s'\n",
    "df_p_056.loc[((df_p_056['age'] >= 30) & (df_p_056['age'] < 40)),'age_category'] = '30s'\n",
    "df_p_056.loc[((df_p_056['age'] >= 40) & (df_p_056['age'] < 50)),'age_category'] = '40s'\n",
    "df_p_056.loc[((df_p_056['age'] >= 50) & (df_p_056['age'] < 60)),'age_category'] = '50s'\n",
    "df_p_056.loc[((df_p_056['age'] >= 60)),'age_category'] = 'over60s'\n",
    "\n",
    "# 顧客ID（customer_id）、生年月日（birth_day）とともに10件表示せよ。\n",
    "print(df_p_056[['customer_id','birth_day','age_category']].head(10))\n"
   ]
  },
  {
   "cell_type": "markdown",
   "metadata": {},
   "source": [
    "---\n",
    ">★ P-057: 056の抽出結果と性別コード（gender_cd）により、新たに性別×年代の組み合わせを表すカテゴリデータを作成し、10件表示せよ。組み合わせを表すカテゴリの値は任意とする。"
   ]
  },
  {
   "cell_type": "code",
   "execution_count": 34,
   "metadata": {},
   "outputs": [
    {
     "name": "stdout",
     "output_type": "stream",
     "text": [
      "      customer_id birth_day sex_age_segment\n",
      "0  CS021313000114  19810429           F_30s\n",
      "1  CS037613000071  19520401       U_over60s\n",
      "2  CS031415000172  19761004           F_40s\n",
      "3  CS028811000001  19330327       F_over60s\n",
      "4  CS001215000145  19950329           F_20s\n",
      "5  CS020401000016  19740915           M_40s\n",
      "6  CS015414000103  19770809           F_40s\n",
      "7  CS029403000008  19730817           M_40s\n",
      "8  CS015804000004  19310502       M_over60s\n",
      "9  CS033513000180  19620711           F_50s\n"
     ]
    }
   ],
   "source": [
    "#056の抽出結果を代入する\n",
    "df_p_057 = pd.DataFrame()\n",
    "df_p_057 = df_p_056\n",
    "\n",
    "# 性別コード（gender_cd）をもとに性別のタグを作成\n",
    "df_p_057.loc[((df_p_057['gender_cd'] == 0)),'gender_tag'] = 'M'\n",
    "df_p_057.loc[((df_p_057['gender_cd'] == 1)),'gender_tag'] = 'F'\n",
    "df_p_057.loc[((df_p_057['gender_cd'] == 9)),'gender_tag'] = 'U'\n",
    "\n",
    "# 新たに性別×年代の組み合わせを表すカテゴリデータを作成：性別のタグと年代を結合する\n",
    "df_p_057['sex_age_segment'] = df_p_057['gender_tag'].str.cat(df_p_057['age_category'], sep='_')\n",
    "\n",
    "# 結果を10件表示する\n",
    "print(df_p_057[['customer_id', 'birth_day', 'sex_age_segment']].head(10))"
   ]
  },
  {
   "cell_type": "markdown",
   "metadata": {},
   "source": [
    "---\n",
    ">★P-058: 顧客データ（df_customer）の性別コード（gender_cd）をダミー変数化し、顧客ID（customer_id）とともに10件表示せよ。\n"
   ]
  },
  {
   "cell_type": "code",
   "execution_count": 35,
   "metadata": {},
   "outputs": [
    {
     "name": "stdout",
     "output_type": "stream",
     "text": [
      "      customer_id  gender_cd_M  gender_cd_F  gender_cd_U\n",
      "0  CS021313000114            0            1            0\n",
      "1  CS037613000071            0            0            1\n",
      "2  CS031415000172            0            1            0\n",
      "3  CS028811000001            0            1            0\n",
      "4  CS001215000145            0            1            0\n",
      "5  CS020401000016            1            0            0\n",
      "6  CS015414000103            0            1            0\n",
      "7  CS029403000008            1            0            0\n",
      "8  CS015804000004            1            0            0\n",
      "9  CS033513000180            0            1            0\n"
     ]
    }
   ],
   "source": [
    "df_p_058 = pd.DataFrame()\n",
    "df_p_058_dummies = pd.DataFrame()\n",
    "\n",
    "# 顧客データ（df_customer）の性別コード（gender_cd）をダミー変数化する\n",
    "df_p_058 = df_customer\n",
    "df_p_058.isnull().all() #ダミー変数化する前に欠損値がないかどうか確認\n",
    "df_p_058_dummies = pd.get_dummies(df_p_058['gender_cd'])\n",
    "df_p_058_dummies = df_p_058_dummies.rename(columns={0:'gender_cd_M',1:'gender_cd_F',9:'gender_cd_U'})\n",
    "df_p_058_dummies['customer_id'] = df_customer['customer_id']\n",
    "\n",
    "# カラムの整列\n",
    "df_p_058 = df_p_058_dummies.reindex(columns=['customer_id','gender_cd_M','gender_cd_F','gender_cd_U'])\n",
    "\n",
    "# 顧客ID（customer_id）とともに10件表示する\n",
    "print(df_p_058.head(10))"
   ]
  },
  {
   "cell_type": "markdown",
   "metadata": {},
   "source": [
    "---\n",
    "> ★P-059: レシート明細データ（df_receipt）の売上金額（amount）を顧客ID（customer_id）ごとに合計し、売上金額合計を平均0、標準偏差1に標準化して顧客ID、売上金額合計とともに10件表示せよ。標準化に使用する標準偏差は、分散の平方根、もしくは不偏分散の平方根のどちらでも良いものとする。ただし、顧客IDが\"Z\"から始まるのものは非会員を表すため、除外して計算すること。"
   ]
  },
  {
   "cell_type": "code",
   "execution_count": 36,
   "metadata": {},
   "outputs": [
    {
     "name": "stdout",
     "output_type": "stream",
     "text": [
      "      customer_id  amount_sum  amount_sum_ standardized\n",
      "0  CS001113000004        1298                 -0.459378\n",
      "1  CS001114000005         626                 -0.706390\n",
      "2  CS001115000010        3044                  0.182413\n",
      "3  CS001205000004        1988                 -0.205749\n",
      "4  CS001205000006        3337                  0.290114\n",
      "5  CS001211000025         456                 -0.768879\n",
      "6  CS001212000027         448                 -0.771819\n",
      "7  CS001212000031         296                 -0.827691\n",
      "8  CS001212000046         228                 -0.852686\n",
      "9  CS001212000070         456                 -0.768879\n"
     ]
    },
    {
     "name": "stderr",
     "output_type": "stream",
     "text": [
      "/var/folders/ll/63945nf12rl06b030t73hsmw0000gn/T/ipykernel_63863/2046033036.py:16: SettingWithCopyWarning: \n",
      "A value is trying to be set on a copy of a slice from a DataFrame.\n",
      "Try using .loc[row_indexer,col_indexer] = value instead\n",
      "\n",
      "See the caveats in the documentation: https://pandas.pydata.org/pandas-docs/stable/user_guide/indexing.html#returning-a-view-versus-a-copy\n",
      "  df_p_059['amount_sum_ standardized'] = scipy.stats.zscore(df_p_059['amount_sum'])\n"
     ]
    }
   ],
   "source": [
    "df_p_059 = pd.DataFrame()\n",
    "df_p_059_group = pd.DataFrame()\n",
    "\n",
    "# 必要なライブラリのインポート｜平均0・分散1に正規化（標準化）するSciPyのscipy.stats.zscore()関数を用いる\n",
    "import scipy.stats\n",
    "\n",
    "# レシート明細データ（df_receipt）の売上金額（amount）を顧客ID（customer_id）ごとに合計\n",
    "df_p_059_group['amount_sum'] = df_receipt.groupby('customer_id')['amount'].sum()\n",
    "df_p_059_group['customer_id'] = df_p_059_group.index #customer_idがindexとなっているので、列として追加し直す\n",
    "df_p_059_group.reset_index(inplace=True, drop=True) #indexを振り直しておく\n",
    "df_p_059_group = df_p_059_group.reindex(columns=['customer_id','amount_sum']) # カラムの整列\n",
    "\n",
    "# 売上金額合計を平均0、標準偏差1に標準化\n",
    "# 顧客IDが\"Z\"から始まるのものは非会員を表すため、除外して計算\n",
    "df_p_059 =df_p_059_group.query('not customer_id.str.startswith(\"Z\")', engine='python')\n",
    "df_p_059['amount_sum_ standardized'] = scipy.stats.zscore(df_p_059['amount_sum'])\n",
    "\n",
    "# 顧客ID、売上金額合計とともに10件表示する\n",
    "print(df_p_059.head(10))"
   ]
  },
  {
   "cell_type": "markdown",
   "metadata": {},
   "source": [
    "---\n",
    "> ★P-063: 商品データ（df_product）の単価（unit_price）と原価（unit_cost）から各商品の利益額を算出し、結果を10件表示せよ。\n"
   ]
  },
  {
   "cell_type": "code",
   "execution_count": 37,
   "metadata": {},
   "outputs": [
    {
     "name": "stdout",
     "output_type": "stream",
     "text": [
      "   product_cd  category_major_cd  category_medium_cd  category_small_cd  \\\n",
      "0  P040101001                  4                 401              40101   \n",
      "1  P040101002                  4                 401              40101   \n",
      "2  P040101003                  4                 401              40101   \n",
      "3  P040101004                  4                 401              40101   \n",
      "4  P040101005                  4                 401              40101   \n",
      "5  P040101006                  4                 401              40101   \n",
      "6  P040101007                  4                 401              40101   \n",
      "7  P040101008                  4                 401              40101   \n",
      "8  P040101009                  4                 401              40101   \n",
      "9  P040101010                  4                 401              40101   \n",
      "\n",
      "   unit_price  unit_cost  unite_profit  \n",
      "0       198.0      149.0          49.0  \n",
      "1       218.0      164.0          54.0  \n",
      "2       230.0      173.0          57.0  \n",
      "3       248.0      186.0          62.0  \n",
      "4       268.0      201.0          67.0  \n",
      "5       298.0      224.0          74.0  \n",
      "6       338.0      254.0          84.0  \n",
      "7       420.0      315.0         105.0  \n",
      "8       498.0      374.0         124.0  \n",
      "9       580.0      435.0         145.0  \n"
     ]
    }
   ],
   "source": [
    "df_p_063 = pd.DataFrame()\n",
    "df_p_063 = df_product\n",
    "\n",
    "# 商品データ（df_product）の単価（unit_price）と原価（unit_cost）から各商品の利益額を算出する｜単価（unit_price）- 原価（unit_cost）\n",
    "df_p_063['unite_profit'] = df_p_063['unit_price'] - df_p_063['unit_cost']\n",
    "\n",
    "# 結果を10件表示する\n",
    "print(df_p_063.head(10))"
   ]
  },
  {
   "cell_type": "markdown",
   "metadata": {},
   "source": [
    "---\n",
    "> ★P-065: 商品データ（df_product）の各商品について、利益率が30%となる新たな単価を求めよ。ただし、1円未満は切り捨てること。そして結果を10件表示させ、利益率がおよそ30％付近であることを確認せよ。ただし、単価（unit_price）と原価（unit_cost）には欠損が生じていることに注意せよ。"
   ]
  },
  {
   "cell_type": "code",
   "execution_count": 74,
   "metadata": {},
   "outputs": [
    {
     "name": "stdout",
     "output_type": "stream",
     "text": [
      "   product_cd  unit_price  unit_cost  new_price  profit_rate\n",
      "0  P040101001       198.0      149.0      213.0     0.323232\n",
      "1  P040101002       218.0      164.0      234.0     0.321101\n",
      "2  P040101003       230.0      173.0      247.0     0.321739\n",
      "3  P040101004       248.0      186.0      266.0     0.322581\n",
      "4  P040101005       268.0      201.0      287.0     0.320896\n",
      "5  P040101006       298.0      224.0      320.0     0.322148\n",
      "6  P040101007       338.0      254.0      363.0     0.322485\n",
      "7  P040101008       420.0      315.0      450.0     0.321429\n",
      "8  P040101009       498.0      374.0      534.0     0.321285\n",
      "9  P040101010       580.0      435.0      621.0     0.320690\n"
     ]
    }
   ],
   "source": [
    "df_p_065 = pd.DataFrame()\n",
    "df_p_065 = df_product\n",
    "\n",
    "# 商品データ（df_product）の各商品について、利益率が30%となる新たな単価を算出\n",
    "# 1円未満は切り捨てる\n",
    "p65_profit_rate = 0.3\n",
    "p65_cost_rate = 1.0 - p65_profit_rate # 利益率から原価率を定義\n",
    "df_p_065.dropna(subset=['unit_cost']) # 原価が欠損している場合には、利益率が算出できないため、原価（unit_cost）の列で欠損値処理を実行\n",
    "df_p_065['new_price'] = df_p_065['unit_cost'] / p65_cost_rate # 原価（unit_cost）から新しい単価を算出\n",
    "df_p_065['new_price'] = df_p_065['new_price'].round()\n",
    "\n",
    "# 利益率を算出する\n",
    "df_p_065['profit_rate'] = (df_p_065['new_price'] - df_p_065['unit_cost'])/df_p_065['unit_price']  #利益率を算出する\n",
    "\n",
    "# 結果を10件表示し、利益率がおよそ30％付近であることを確認する\n",
    "print(df_p_065[['product_cd','unit_price','unit_cost','new_price','profit_rate']].head(10))"
   ]
  },
  {
   "cell_type": "markdown",
   "metadata": {},
   "source": [
    "---\n",
    "> ★P-069: レシート明細データ（df_receipt）と商品データ（df_product）を結合し、顧客毎に全商品の売上金額合計と、カテゴリ大区分コード（category_major_cd）が\"07\"（瓶詰缶詰）の売上金額合計を計算の上、両者の比率を求めよ。抽出対象はカテゴリ大区分コード\"07\"（瓶詰缶詰）の売上実績がある顧客のみとし、結果を10件表示せよ。\n"
   ]
  },
  {
   "cell_type": "code",
   "execution_count": 39,
   "metadata": {},
   "outputs": [
    {
     "name": "stdout",
     "output_type": "stream",
     "text": [
      "       customer_id  amount_sum  amount_category_major_7_sum  \\\n",
      "0   CS001113000004        1298                       1298.0   \n",
      "1   CS001114000005         626                        486.0   \n",
      "2   CS001115000010        3044                       2694.0   \n",
      "3   CS001205000004        1988                        346.0   \n",
      "4   CS001205000006        3337                       2004.0   \n",
      "6   CS001212000027         448                        200.0   \n",
      "7   CS001212000031         296                        296.0   \n",
      "8   CS001212000046         228                        108.0   \n",
      "9   CS001212000070         456                        308.0   \n",
      "11  CS001213000018         243                        145.0   \n",
      "\n",
      "    rate_category_major_7  \n",
      "0                1.000000  \n",
      "1                0.776358  \n",
      "2                0.885020  \n",
      "3                0.174044  \n",
      "4                0.600539  \n",
      "6                0.446429  \n",
      "7                1.000000  \n",
      "8                0.473684  \n",
      "9                0.675439  \n",
      "11               0.596708  \n"
     ]
    }
   ],
   "source": [
    "df_p_069 = pd.DataFrame()\n",
    "df_p_069_merge = pd.DataFrame()\n",
    "df_p_069_group = pd.DataFrame()\n",
    "\n",
    "# レシート明細データ（df_receipt）と商品データ（df_product）を結合する\n",
    "df_p_069_merge = df_receipt.merge(df_product, on='product_cd', how='inner')\n",
    "\n",
    "# 顧客毎に全商品の売上金額合計を算出する\n",
    "df_p_069_group['amount_sum'] = df_p_069_merge.groupby('customer_id')['amount'].sum()\n",
    "\n",
    "# カテゴリ大区分コード（category_major_cd）が\"07\"（瓶詰缶詰）の売上金額合計を算出する\n",
    "# groupbyは直後に.mean() .max() .sum()がくることが想定されているので、先に.loc[]で取り出す\n",
    "df_p_069_group['amount_category_major_7_sum'] = df_p_069_merge.loc[df_p_069_merge['category_major_cd'] == 7,['customer_id','amount']].groupby('customer_id').sum('amount')\n",
    "df_p_069_group.fillna({'amount_category_major_7_sum': 0})\n",
    "\n",
    "# データテーブルを成形する\n",
    "df_p_069_group['customer_id'] = df_p_069_group.index #customer_idがindexとなっているので、列として追加し直す\n",
    "df_p_069_group.reset_index(inplace=True, drop=True) #indexを振り直しておく\n",
    "df_p_069_group = df_p_069_group.reindex(columns=['customer_id','amount_sum','amount_category_major_7_sum']) # カラムの整列\n",
    "df_p_069_group = df_p_069_group.dropna(subset=['amount_category_major_7_sum']) #カテゴリ大区分コード\"07\"（瓶詰缶詰）の売上実績がない顧客を削除する\n",
    "\n",
    "# 全商品の売上合計と瓶詰缶詰の売上合計比率を算出する\n",
    "df_p_069_group['rate_category_major_7'] = df_p_069_group['amount_category_major_7_sum'] / df_p_069_group['amount_sum']\n",
    "df_p_069 = df_p_069_group\n",
    "\n",
    "# 抽出対象はカテゴリ大区分コード\"07\"（瓶詰缶詰）の売上実績がある顧客のみとし、結果を10件表示せよ。\n",
    "print(df_p_069.head(10))"
   ]
  },
  {
   "cell_type": "markdown",
   "metadata": {},
   "source": [
    "---\n",
    "> ★P-070: レシート明細データ（df_receipt）の売上日（sales_ymd）に対し、顧客データ（df_customer）の会員申込日（application_date）からの経過日数を計算し、顧客ID（customer_id）、売上日、会員申込日とともに10件表示せよ（sales_ymdは数値、application_dateは文字列でデータを保持している点に注意）。\n"
   ]
  },
  {
   "cell_type": "code",
   "execution_count": 40,
   "metadata": {},
   "outputs": [
    {
     "name": "stdout",
     "output_type": "stream",
     "text": [
      "      customer_id  sales_ymd application_date elapsed_days\n",
      "0  CS006214000001 2018-11-03       2015-02-01    1371 days\n",
      "1  CS006214000001 2017-05-09       2015-02-01     828 days\n",
      "2  CS006214000001 2017-06-08       2015-02-01     858 days\n",
      "3  CS006214000001 2017-06-08       2015-02-01     858 days\n",
      "4  CS006214000001 2018-10-28       2015-02-01    1365 days\n",
      "5  CS006214000001 2018-10-28       2015-02-01    1365 days\n",
      "6  CS006214000001 2017-05-09       2015-02-01     828 days\n",
      "7  CS006214000001 2019-09-08       2015-02-01    1680 days\n",
      "8  CS006214000001 2018-01-31       2015-02-01    1095 days\n",
      "9  CS006214000001 2017-07-05       2015-02-01     885 days\n"
     ]
    }
   ],
   "source": [
    "df_p_070 = pd.DataFrame()\n",
    "df_p_070_merge = pd.DataFrame()\n",
    "\n",
    "# レシート明細データ（df_receipt）と顧客データ（df_customer）を結合｜顧客ID（customer_id）をキーにする\n",
    "df_p_070_merge = df_receipt.merge(df_customer, on='customer_id', how='inner')\n",
    "\n",
    "# 計算が可能なように日付のデータ型を揃える｜sales_ymd:int64、application_date:int64\n",
    "df_p_070_merge.dtypes\n",
    "df_p_070_merge['sales_ymd_new']= pd.to_datetime(df_p_070_merge['sales_ymd'].astype(str))\n",
    "df_p_070_merge['application_date_new'] = pd.to_datetime(df_p_070_merge['application_date'].astype(str))\n",
    "\n",
    "# 会員申込日（application_date）からの経過日数を計算する\n",
    "df_p_070_merge['elapsed_days'] = df_p_070_merge['sales_ymd_new'] - df_p_070_merge['application_date_new']\n",
    "df_p_070 = df_p_070_merge.drop(columns=['sales_ymd','application_date'])\n",
    "df_p_070 = df_p_070.rename(columns={'sales_ymd_new': 'sales_ymd', 'application_date_new': 'application_date'})\n",
    "\n",
    "# 顧客ID（customer_id）、売上日、会員申込日とともに10件表示\n",
    "print(df_p_070[['customer_id','sales_ymd','application_date','elapsed_days']].head(10))"
   ]
  },
  {
   "cell_type": "markdown",
   "metadata": {},
   "source": [
    "---\n",
    "> ★P-075: 顧客データ（df_customer）からランダムに1%のデータを抽出し、先頭から10件表示せよ。"
   ]
  },
  {
   "cell_type": "code",
   "execution_count": 41,
   "metadata": {},
   "outputs": [
    {
     "name": "stdout",
     "output_type": "stream",
     "text": [
      "          customer_id customer_name  gender_cd gender birth_day  age  \\\n",
      "16062  CS019514000087        平塚 美智子          1     女性  19670606   51   \n",
      "12796  CS018512000116          立石 茜          1     女性  19581217   60   \n",
      "9808   CS001715000084         伴 だん吉          9     不明  19420912   76   \n",
      "2269   CS030415000034         玉置 南朋          1     女性  19690128   50   \n",
      "70     CS031403000002         栗田 誠治          0     男性  19700817   48   \n",
      "17522  CS003312000225        篠崎 沙知絵          1     女性  19831012   35   \n",
      "17917  CS004314000230         野際 愛子          1     女性  19850918   33   \n",
      "2354   CS040714000036          緒方 涼          1     女性  19440507   74   \n",
      "6251   CS004613000040        長田 ひろみ          1     女性  19521124   66   \n",
      "18422  CS022413000051        山内 貴美子          1     女性  19700208   49   \n",
      "\n",
      "      postal_cd                  address application_store_cd  \\\n",
      "16062  176-0004      東京都練馬区小竹町**********               S13019   \n",
      "12796  204-0011      東京都清瀬市下清戸**********               S13018   \n",
      "9808   146-0095      東京都大田区多摩川**********               S13001   \n",
      "2269   272-0025      千葉県市川市大和田**********               S12030   \n",
      "70     151-0071       東京都渋谷区本町**********               S13031   \n",
      "17522  214-0004  神奈川県川崎市多摩区菅馬場**********               S13003   \n",
      "17917  165-0035       東京都中野区白鷺**********               S13004   \n",
      "2354   226-0016   神奈川県横浜市緑区霧が丘**********               S14040   \n",
      "6251   165-0032       東京都中野区鷺宮**********               S13004   \n",
      "18422  249-0008      神奈川県逗子市小坪**********               S14022   \n",
      "\n",
      "       application_date     status_cd  postal_cd_prefecture  postal_cd_flag  \\\n",
      "16062          20150814  5-20100307-6                   176               1   \n",
      "12796          20150210  0-00000000-0                   204               1   \n",
      "9808           20160421  0-00000000-0                   146               1   \n",
      "2269           20150501  F-20101020-F                   272               2   \n",
      "70             20150225  0-00000000-0                   151               1   \n",
      "17522          20160929  0-00000000-0                   214               2   \n",
      "17917          20170919  0-00000000-0                   165               1   \n",
      "2354           20150705  0-00000000-0                   226               2   \n",
      "6251           20150415  0-00000000-0                   165               1   \n",
      "18422          20150609  0-00000000-0                   249               2   \n",
      "\n",
      "       prefecture_cd age_category gender_tag sex_age_segment  \n",
      "16062             13          50s          F           F_50s  \n",
      "12796             13      over60s          F       F_over60s  \n",
      "9808              13      over60s          U       U_over60s  \n",
      "2269              12          50s          F           F_50s  \n",
      "70                13          40s          M           M_40s  \n",
      "17522             14          30s          F           F_30s  \n",
      "17917             13          30s          F           F_30s  \n",
      "2354              14      over60s          F       F_over60s  \n",
      "6251              13      over60s          F       F_over60s  \n",
      "18422             14          40s          F           F_40s  \n"
     ]
    }
   ],
   "source": [
    "df_p_075 = pd.DataFrame()\n",
    "df_p_075 = df_customer.sample(frac=0.01)\n",
    "print(df_p_075.head(10))"
   ]
  },
  {
   "cell_type": "markdown",
   "metadata": {},
   "source": [
    "---\n",
    "> ★P-076: 顧客データ（df_customer）から性別コード（gender_cd）の割合に基づきランダムに10%のデータを層化抽出し、性別コードごとに件数を集計せよ。\n"
   ]
  },
  {
   "cell_type": "code",
   "execution_count": 42,
   "metadata": {},
   "outputs": [
    {
     "name": "stdout",
     "output_type": "stream",
     "text": [
      "1    1792\n",
      "0     298\n",
      "9     107\n",
      "Name: gender_cd, dtype: int64\n"
     ]
    }
   ],
   "source": [
    "df_p_076 = pd.DataFrame()\n",
    "df_p_076 = df_customer\n",
    "\n",
    "#顧客データ（df_customer）から性別コード（gender_cd）の割合に基づきランダムに10%のデータを層化抽出\n",
    "df_p_076 = df_p_076.groupby('gender_cd', group_keys=False).apply(lambda x: x.sample(frac=0.1))\n",
    "\n",
    "# 性別コードごとに件数を集計せよ。\n",
    "print(df_p_076['gender_cd'].value_counts())"
   ]
  },
  {
   "cell_type": "markdown",
   "metadata": {},
   "source": [
    "---\n",
    "> ★P-077: レシート明細データ（df_receipt）の売上金額を顧客単位に合計し、合計した売上金額の外れ値を抽出せよ。なお、外れ値は売上金額合計を対数化したうえで平均と標準偏差を計算し、その平均から3σを超えて離れたものとする（自然対数と常用対数のどちらでも可）。結果は10件表示せよ。"
   ]
  },
  {
   "cell_type": "code",
   "execution_count": 71,
   "metadata": {},
   "outputs": [
    {
     "name": "stdout",
     "output_type": "stream",
     "text": [
      "2.598317526569759e-16\n",
      "1.0000602028837735\n",
      "         customer_id  amount  amount_sum_standardized\n",
      "332   CS001605000009   18925                 6.019921\n",
      "1755  CS006415000147   12723                 3.740202\n",
      "1817  CS006515000023   18372                 5.816651\n",
      "1833  CS006515000125   12575                 3.685800\n",
      "1841  CS006515000209   11373                 3.243972\n",
      "1870  CS007115000006   11528                 3.300946\n",
      "1941  CS007514000056   13293                 3.949721\n",
      "1943  CS007514000094   15735                 4.847347\n",
      "1951  CS007515000107   11188                 3.175970\n",
      "1997  CS007615000026   11959                 3.459372\n"
     ]
    }
   ],
   "source": [
    "df_p_077 = pd.DataFrame()\n",
    "df_p_077_group = pd.DataFrame()\n",
    "\n",
    "#必要なライブラリーをインポートする\n",
    "import scipy.stats\n",
    "\n",
    "# レシート明細データ（df_receipt）の売上金額を顧客単位に合計\n",
    "df_p_077_group = df_receipt.query('not customer_id.str.startswith(\"Z\")', engine='python').groupby('customer_id').agg({'amount':'sum'}).reset_index()\n",
    "\n",
    "# 売上金額合計を対数化する\n",
    "df_p_077_group['amount_sum_standardized'] = scipy.stats.zscore(df_p_077_group['amount'])\n",
    "\n",
    "# 平均と標準偏差を計算する\n",
    "df_p_077_avg = df_p_077_group['amount_sum_standardized'].mean()\n",
    "df_p_077_std = df_p_077_group['amount_sum_standardized'].std()\n",
    "print(df_p_077_avg)\n",
    "print(df_p_077_std)\n",
    "\n",
    "# 平均から3σを超えて離れたものを外れ値とする\n",
    "# 結果は10件表示\n",
    "df_p_077 = df_p_077_group.query('amount_sum_standardized > (@df_p_077_avg + 3)')\n",
    "print(df_p_077.head(10))\n"
   ]
  },
  {
   "cell_type": "markdown",
   "metadata": {},
   "source": [
    "---\n",
    "> ★P-078: レシート明細データ（df_receipt）の売上金額（amount）を顧客単位に合計し、合計した売上金額の外れ値を抽出せよ。ただし、顧客IDが\"Z\"から始まるのものは非会員を表すため、除外して計算すること。なお、ここでは外れ値を第1四分位と第3四分位の差であるIQRを用いて、「第1四分位数-1.5×IQR」を下回るもの、または「第3四分位数+1.5×IQR」を超えるものとする。結果は10件表示せよ。"
   ]
  },
  {
   "cell_type": "code",
   "execution_count": 44,
   "metadata": {},
   "outputs": [
    {
     "name": "stdout",
     "output_type": "stream",
     "text": [
      "         customer_id  amount\n",
      "98    CS001414000048    8584\n",
      "332   CS001605000009   18925\n",
      "549   CS002415000594    9568\n",
      "1180  CS004414000181    9584\n",
      "1558  CS005415000137    8734\n",
      "1733  CS006414000001    9156\n",
      "1736  CS006414000029    9179\n",
      "1752  CS006415000105   10042\n",
      "1755  CS006415000147   12723\n",
      "1757  CS006415000157   10648\n"
     ]
    }
   ],
   "source": [
    "df_p_078 = pd.DataFrame()\n",
    "df_p_078_group = pd.DataFrame()\n",
    "\n",
    "# レシート明細データ（df_receipt）の売上金額（amount）を顧客単位に合計する\n",
    "# 顧客IDが\"Z\"から始まるのものは非会員を表すため、除外する\n",
    "df_p_078_group = df_receipt.query('not customer_id.str.startswith(\"Z\")', engine='python').groupby('customer_id').agg({'amount':'sum'}).reset_index()\n",
    "\n",
    "# 合計金額の四分位点を求める\n",
    "# IQR（第1四分位と第3四分位の差）を求める\n",
    "# 外れ値の基準を設ける｜「第1四分位数-1.5×IQR」と「第3四分位数+1.5×IQR」\n",
    "df_p_078_quantile = df_p_078_group['amount'].quantile([0, 0.25, 0.5, 0.75, 1.0])\n",
    "p_078_quantile_1st = df_p_078_quantile.loc[0.25]\n",
    "p_078_quantile_3rd = df_p_078_quantile.loc[0.75]\n",
    "p_078_iqr = p_078_quantile_3rd - p_078_quantile_1st\n",
    "\n",
    "p_078_std_1st = p_078_quantile_1st - 1.5*p_078_iqr\n",
    "p_078_std_3rd = p_078_quantile_3rd + 1.5*p_078_iqr\n",
    "\n",
    "# 合計した売上金額の外れ値を抽出する\n",
    "# 結果は10件表示\n",
    "df_p_078 = df_p_078_group.query('amount < @p_078_std_1st | amount > @p_078_std_3rd')\n",
    "print(df_p_078.head(10))\n",
    "\n"
   ]
  },
  {
   "cell_type": "markdown",
   "metadata": {},
   "source": [
    "---\n",
    "> ★P-081: 単価（unit_price）と原価（unit_cost）の欠損値について、それぞれの平均値で補完した新たな商品データを作成せよ。なお、平均値については1円未満を丸めること（四捨五入または偶数への丸めで良い）。補完実施後、各項目について欠損が生じていないことも確認すること。\n"
   ]
  },
  {
   "cell_type": "code",
   "execution_count": 76,
   "metadata": {},
   "outputs": [
    {
     "name": "stdout",
     "output_type": "stream",
     "text": [
      "product_cd            False\n",
      "category_major_cd     False\n",
      "category_medium_cd    False\n",
      "category_small_cd     False\n",
      "unit_price            False\n",
      "unit_cost             False\n",
      "dtype: bool\n"
     ]
    }
   ],
   "source": [
    "df_p_081 = pd.DataFrame()\n",
    "df_p_081_row = pd.DataFrame()\n",
    "\n",
    "# 単価（unit_price）と原価（unit_cost）の各平均値を算出する\n",
    "# 1円未満を丸める（四捨五入または偶数への丸め）\n",
    "df_p_081_row = df_product\n",
    "p_081_unit_price_avg = round(df_p_081_row['unit_price'].mean(), -1)\n",
    "p_081_unit_cost_avg = round(df_p_081_row['unit_cost'].mean(),-1)\n",
    "\n",
    "# 単価（unit_price）と原価（unit_cost）の欠損値を各平均値で補完し処理する\n",
    "# 新たな商品データを作成する\n",
    "df_p_081 = df_p_081_row.fillna({'unit_price':p_081_unit_price_avg, 'unit_cost':p_081_unit_cost_avg})\n",
    "\n",
    "#各項目について欠損が生じていないことも確認する\n",
    "print(df_p_081.isnull().any())\n"
   ]
  },
  {
   "cell_type": "markdown",
   "metadata": {},
   "source": [
    "---\n",
    "> ★P-083: 単価（unit_price）と原価（unit_cost）の欠損値について、各商品のカテゴリ小区分コード（category_small_cd）ごとに算出した中央値で補完した新たな商品データを作成せよ。なお、中央値については1円未満を丸めること（四捨五入または偶数への丸めで良い）。補完実施後、各項目について欠損が生じていないことも確認すること。"
   ]
  },
  {
   "cell_type": "code",
   "execution_count": 77,
   "metadata": {},
   "outputs": [
    {
     "name": "stdout",
     "output_type": "stream",
     "text": [
      "product_cd            0\n",
      "category_major_cd     0\n",
      "category_medium_cd    0\n",
      "category_small_cd     0\n",
      "unit_price            0\n",
      "unit_cost             0\n",
      "median_price          0\n",
      "median_cost           0\n",
      "dtype: int64\n"
     ]
    }
   ],
   "source": [
    "#写経での回答\n",
    "df_p_083 = pd.DataFrame()\n",
    "\n",
    "# 各商品のカテゴリ小区分コード（category_small_cd）ごとに中央値を算出する\n",
    "# 中央値を1円未満を丸める（四捨五入または偶数への丸め）\n",
    "df_p_083_mid = round(df_product.groupby('category_small_cd').agg({'unit_price':'median', 'unit_cost':'median'}),-1).reset_index()\n",
    "df_p_083_mid.columns = ['category_small_cd', 'median_price', 'median_cost']\n",
    "\n",
    "\n",
    "# 元のデータと中央値のDataFrameを内部結合する\n",
    "df_p_083 = pd.merge(df_product, df_p_083_mid, how='inner', on='category_small_cd')\n",
    "\n",
    "\n",
    "# 単価（unit_price）と原価（unit_cost）の欠損値を各中央値で補完し処理する\n",
    "# unit_price(下記コードではx[0]がunit_price)に欠損値があった場合は、median_price(下記コードではx[1]がmedian_price)を適用し、そうでない場合は。unit_priceそのまま\n",
    "# axis=1にすることで行方向への処理にさせる。\n",
    "df_p_083['unit_price'] = df_p_083[['unit_price', 'median_price']].apply(lambda x: x[1] if np.isnan(x[0]) else x[0], axis=1)\n",
    "df_p_083['unit_cost'] = df_p_083[['unit_cost', 'median_cost']].apply(lambda x: x[1] if np.isnan(x[0]) else x[0], axis=1)\n",
    "\n",
    "# 各項目について欠損が生じていないことも確認する\n",
    "p_083_selected_columns = df_p_083.columns[~df_p_083.columns.isin(['median_price', 'median_cost'])]\n",
    "# print(df_p_083[p_083_selected_columns])\n",
    "print(df_p_083.isnull().sum())"
   ]
  },
  {
   "cell_type": "markdown",
   "metadata": {},
   "source": [
    "---\n",
    "> ★P-084: 顧客データ（df_customer）の全顧客に対して全期間の売上金額に占める2019年売上金額の割合を計算し、新たなデータを作成せよ。ただし、売上実績がない場合は0として扱うこと。そして計算した割合が0超のものを抽出し、結果を10件表示せよ。また、作成したデータに欠損が存在しないことを確認せよ。"
   ]
  },
  {
   "cell_type": "code",
   "execution_count": 47,
   "metadata": {},
   "outputs": [
    {
     "name": "stdout",
     "output_type": "stream",
     "text": [
      "       customer_id customer_name  gender_cd gender birth_day  age postal_cd  \\\n",
      "2   CS031415000172       宇多田 貴美子          1     女性  19761004   42  151-0053   \n",
      "6   CS015414000103         奥野 陽子          1     女性  19770809   41  136-0073   \n",
      "12  CS011215000048         芦田 沙耶          1     女性  19920201   27  223-0062   \n",
      "15  CS029415000023         梅田 里穂          1     女性  19760117   43  279-0043   \n",
      "21  CS035415000029         寺沢 真希          9     不明  19770927   41  158-0096   \n",
      "23  CS023513000066         神戸 そら          1     女性  19611217   57  210-0005   \n",
      "24  CS035513000134         市川 美帆          1     女性  19600327   59  156-0053   \n",
      "27  CS001515000263         高松 夏空          1     女性  19621109   56  144-0051   \n",
      "30  CS006415000279          末永 綾          1     女性  19691003   49  224-0037   \n",
      "32  CS031415000106        宇野 由美子          1     女性  19700226   49  151-0053   \n",
      "\n",
      "                     address application_store_cd  application_date  \\\n",
      "2        東京都渋谷区代々木**********               S13031          20150529   \n",
      "6         東京都江東区北砂**********               S13015          20150722   \n",
      "12  神奈川県横浜市港北区日吉本町**********               S14011          20150228   \n",
      "15       千葉県浦安市富士見**********               S12029          20150610   \n",
      "21      東京都世田谷区玉川台**********               S13035          20141220   \n",
      "23   神奈川県川崎市川崎区東田町**********               S14023          20150915   \n",
      "24        東京都世田谷区桜**********               S13035          20150227   \n",
      "27       東京都大田区西蒲田**********               S13001          20160812   \n",
      "30  神奈川県横浜市都筑区茅ケ崎南**********               S14006          20150713   \n",
      "32       東京都渋谷区代々木**********               S13031          20150201   \n",
      "\n",
      "       status_cd  postal_cd_prefecture  postal_cd_flag  prefecture_cd  \\\n",
      "2   D-20100325-C                   151               1             13   \n",
      "6   B-20100609-B                   136               1             13   \n",
      "12  C-20100421-9                   223               2             14   \n",
      "15  D-20100918-E                   279               2             12   \n",
      "21  F-20101029-F                   158               1             13   \n",
      "23  5-20100524-9                   210               2             14   \n",
      "24  8-20100711-9                   156               1             13   \n",
      "27  1-20100804-1                   144               1             13   \n",
      "30  1-20100519-2                   224               2             14   \n",
      "32  F-20100511-E                   151               1             13   \n",
      "\n",
      "   age_category gender_tag sex_age_segment  sales_2019  sales_all  \\\n",
      "2           40s          F           F_40s      2971.0     5088.0   \n",
      "6           40s          F           F_40s       874.0     3122.0   \n",
      "12          20s          F           F_20s       248.0     3444.0   \n",
      "15          40s          F           F_40s      3767.0     5167.0   \n",
      "21          40s          U           U_40s      5823.0     7504.0   \n",
      "23          50s          F           F_50s       208.0      771.0   \n",
      "24          50s          F           F_50s       463.0     1565.0   \n",
      "27          50s          F           F_50s       216.0      216.0   \n",
      "30          40s          F           F_40s       229.0      229.0   \n",
      "32          40s          F           F_40s       215.0     7741.0   \n",
      "\n",
      "    rate_sales_2019  \n",
      "2          0.583923  \n",
      "6          0.279949  \n",
      "12         0.072009  \n",
      "15         0.729050  \n",
      "21         0.775986  \n",
      "23         0.269780  \n",
      "24         0.295847  \n",
      "27         1.000000  \n",
      "30         1.000000  \n",
      "32         0.027774  \n",
      "customer_id             False\n",
      "customer_name           False\n",
      "gender_cd               False\n",
      "gender                  False\n",
      "birth_day               False\n",
      "age                     False\n",
      "postal_cd               False\n",
      "address                 False\n",
      "application_store_cd    False\n",
      "application_date        False\n",
      "status_cd               False\n",
      "postal_cd_prefecture    False\n",
      "postal_cd_flag          False\n",
      "prefecture_cd           False\n",
      "age_category            False\n",
      "gender_tag              False\n",
      "sex_age_segment         False\n",
      "sales_2019              False\n",
      "sales_all               False\n",
      "rate_sales_2019         False\n",
      "dtype: bool\n"
     ]
    }
   ],
   "source": [
    "df_p_084 = pd.DataFrame()\n",
    "df_p_084_merge = pd.DataFrame()\n",
    "\n",
    "# df_customerとdf_receiptのデータを結合する\n",
    "# sales_ymdをもとに年のデータを作成する\n",
    "df_p_084_merge = pd.merge(df_customer, df_receipt, how='inner', on='customer_id')\n",
    "df_p_084_merge['sales_year'] = df_p_084_merge['sales_ymd'].astype(str).str[:4].astype(int)\n",
    "\n",
    "# 顧客データ（df_customer）の全顧客について、各年の売り上げを合計する\n",
    "df_p_084_amount_year = df_p_084_merge.query('not customer_id.str.startswith(\"Z\")', engine='python').groupby(['customer_id','sales_year']).agg({'amount':'sum'}).reset_index()\n",
    "\n",
    "# 2019年のみの売上データを作成する\n",
    "df_p_084_amount_2019 = df_p_084_amount_year[df_p_084_amount_year['sales_year'] == 2019]\n",
    "df_p_084_amount_2019 = df_p_084_amount_2019.rename(columns={'amount':'sales_2019'})\n",
    "df_p_084_amount_2019.drop(columns='sales_year',inplace=True)\n",
    "\n",
    "# 全年合計の売上データを作成する\n",
    "df_p_084_amount_all = df_p_084_amount_year.groupby(['customer_id'])['amount'].sum().reset_index()\n",
    "df_p_084_amount_all = df_p_084_amount_all.rename(columns={'amount':'sales_all'})\n",
    "\n",
    "# 2019年の売り上げと全年合計のデータをdf_customerに結合する\n",
    "df_p_084 = pd.merge(df_customer, df_p_084_amount_2019, how='left', on='customer_id')\n",
    "df_p_084 = pd.merge(df_p_084, df_p_084_amount_all, how='left', on='customer_id')\n",
    "\n",
    "# 売上実績がない場合は0として扱う\n",
    "df_p_084 = df_p_084.fillna({'sales_2019':0, 'sales_all':0})\n",
    "\n",
    "# 割合を計算し、新たなデータを作成する\n",
    "df_p_084['rate_sales_2019'] = df_p_084['sales_2019'] / df_p_084['sales_all']\n",
    "df_p_084 = df_p_084.fillna({'rate_sales_2019':0})\n",
    "\n",
    "# 計算した割合が0超のものを抽出する\n",
    "# 結果を10件表示する\n",
    "print(df_p_084[df_p_084['rate_sales_2019'] > 0].head(10))\n",
    "\n",
    "# 作成したデータに欠損が存在しないことを確認する\n",
    "print(df_p_084.isnull().any())"
   ]
  },
  {
   "cell_type": "markdown",
   "metadata": {},
   "source": [
    "---\n",
    "> ★P-085: 顧客データ（df_customer）の全顧客に対し、郵便番号（postal_cd）を用いてジオコードデータ（df_geocode）を紐付け、新たな顧客データを作成せよ。ただし、1つの郵便番号（postal_cd）に複数の経度（longitude）、緯度（latitude）情報が紐づく場合は、経度（longitude）、緯度（latitude）の平均値を算出して使用すること。また、作成結果を確認するために結果を10件表示せよ。"
   ]
  },
  {
   "cell_type": "code",
   "execution_count": 48,
   "metadata": {},
   "outputs": [
    {
     "name": "stdout",
     "output_type": "stream",
     "text": [
      "      customer_id customer_name  gender_cd gender birth_day  age postal_cd  \\\n",
      "0  CS021313000114        大野 あや子          1     女性  19810429   37  259-1113   \n",
      "1  CS021303000023          堀 一徳          0     男性  19800405   38  259-1113   \n",
      "2  CS021303000007         石倉 俊二          0     男性  19870704   31  259-1113   \n",
      "3  CS021313000183         草野 未來          1     女性  19861221   32  259-1113   \n",
      "4  CS021314000098        筒井 れいな          1     女性  19850921   33  259-1113   \n",
      "5  CS021314000093         江藤 美佐          1     女性  19860603   32  259-1113   \n",
      "6  CS021413000049         大野 幸子          1     女性  19730417   45  259-1113   \n",
      "7  CS037613000071         六角 雅彦          9     不明  19520401   66  136-0076   \n",
      "8  CS015415000209         大谷 倫子          1     女性  19701125   48  136-0076   \n",
      "9  CS037614000045         長沢 麻緒          1     女性  19520619   66  136-0076   \n",
      "\n",
      "              address_x application_store_cd  application_date  ...  \\\n",
      "0  神奈川県伊勢原市粟窪**********               S14021          20150905  ...   \n",
      "1  神奈川県伊勢原市粟窪**********               S14021          20160411  ...   \n",
      "2  神奈川県伊勢原市粟窪**********               S14021          20150707  ...   \n",
      "3  神奈川県伊勢原市粟窪**********               S14021          20170611  ...   \n",
      "4  神奈川県伊勢原市粟窪**********               S14021          20160901  ...   \n",
      "5  神奈川県伊勢原市粟窪**********               S14021          20151015  ...   \n",
      "6  神奈川県伊勢原市粟窪**********               S14021          20150703  ...   \n",
      "7    東京都江東区南砂**********               S13037          20150414  ...   \n",
      "8    東京都江東区南砂**********               S13015          20150909  ...   \n",
      "9    東京都江東区南砂**********               S13037          20150209  ...   \n",
      "\n",
      "  gender_tag  sex_age_segment  prefecture  city town street address_y  \\\n",
      "0          F            F_30s        神奈川県  伊勢原市   粟窪    NaN       NaN   \n",
      "1          M            M_30s        神奈川県  伊勢原市   粟窪    NaN       NaN   \n",
      "2          M            M_30s        神奈川県  伊勢原市   粟窪    NaN       NaN   \n",
      "3          F            F_30s        神奈川県  伊勢原市   粟窪    NaN       NaN   \n",
      "4          F            F_30s        神奈川県  伊勢原市   粟窪    NaN       NaN   \n",
      "5          F            F_30s        神奈川県  伊勢原市   粟窪    NaN       NaN   \n",
      "6          F            F_40s        神奈川県  伊勢原市   粟窪    NaN       NaN   \n",
      "7          U        U_over60s         東京都   江東区   南砂    NaN       NaN   \n",
      "8          F            F_40s         東京都   江東区   南砂    NaN       NaN   \n",
      "9          F        F_over60s         東京都   江東区   南砂    NaN       NaN   \n",
      "\n",
      "  full_address m_longitude m_latitude  \n",
      "0   神奈川県伊勢原市粟窪   139.31779   35.41358  \n",
      "1   神奈川県伊勢原市粟窪   139.31779   35.41358  \n",
      "2   神奈川県伊勢原市粟窪   139.31779   35.41358  \n",
      "3   神奈川県伊勢原市粟窪   139.31779   35.41358  \n",
      "4   神奈川県伊勢原市粟窪   139.31779   35.41358  \n",
      "5   神奈川県伊勢原市粟窪   139.31779   35.41358  \n",
      "6   神奈川県伊勢原市粟窪   139.31779   35.41358  \n",
      "7     東京都江東区南砂   139.83502   35.67193  \n",
      "8     東京都江東区南砂   139.83502   35.67193  \n",
      "9     東京都江東区南砂   139.83502   35.67193  \n",
      "\n",
      "[10 rows x 25 columns]\n"
     ]
    }
   ],
   "source": [
    "df_p_085 = pd.DataFrame()\n",
    "\n",
    "# 郵便番号（postal_cd）でグループ化し、経度（longitude）緯度（latitude）の平均を算出する\n",
    "p_58_df_geocode_avg = df_geocode.groupby('postal_cd').agg({'longitude':'mean', 'latitude':'mean'}).reset_index()\n",
    "p_58_df_geocode_avg.rename(columns={'longitude':'m_longitude', 'latitude':'m_latitude'},inplace=True)\n",
    "\n",
    "# 顧客データ（df_customer）の全顧客に対し、郵便番号（postal_cd）を用いてジオコードデータ（df_geocode）を紐付ける\n",
    "df_p_085 = pd.merge(df_customer, df_geocode, how='inner', on='postal_cd')\n",
    "df_p_085 = pd.merge(df_p_085, p_58_df_geocode_avg, how='inner', on='postal_cd')\n",
    "df_p_085.drop(columns=['longitude', 'latitude'],inplace=True)\n",
    "\n",
    "# 結果を10件表示する\n",
    "print(df_p_085.head(10))"
   ]
  },
  {
   "cell_type": "markdown",
   "metadata": {},
   "source": [
    "---\n",
    "> ★P-086: 085で作成した緯度経度つき顧客データに対し、会員申込店舗コード（application_store_cd）をキーに店舗データ（df_store）と結合せよ。そして申込み店舗の緯度（latitude）・経度情報（longitude)と顧客住所（address）の緯度・経度を用いて申込み店舗と顧客住所の距離（単位：km）を求め、顧客ID（customer_id）、顧客住所（address）、店舗住所（address）とともに表示せよ。計算式は以下の簡易式で良いものとするが、その他精度の高い方式を利用したライブラリを利用してもかまわない。結果は10件表示せよ。"
   ]
  },
  {
   "cell_type": "code",
   "execution_count": 49,
   "metadata": {},
   "outputs": [
    {
     "name": "stdout",
     "output_type": "stream",
     "text": [
      "      customer_id         address         address  distance\n",
      "0  CS021313000114  神奈川県伊勢原市伊勢原四丁目  神奈川県伊勢原市伊勢原四丁目  1.394409\n",
      "1  CS021303000023  神奈川県伊勢原市伊勢原四丁目  神奈川県伊勢原市伊勢原四丁目  1.394409\n",
      "2  CS021303000007  神奈川県伊勢原市伊勢原四丁目  神奈川県伊勢原市伊勢原四丁目  1.394409\n",
      "3  CS021313000183  神奈川県伊勢原市伊勢原四丁目  神奈川県伊勢原市伊勢原四丁目  1.394409\n",
      "4  CS021314000098  神奈川県伊勢原市伊勢原四丁目  神奈川県伊勢原市伊勢原四丁目  1.394409\n",
      "5  CS021314000093  神奈川県伊勢原市伊勢原四丁目  神奈川県伊勢原市伊勢原四丁目  1.394409\n",
      "6  CS021413000049  神奈川県伊勢原市伊勢原四丁目  神奈川県伊勢原市伊勢原四丁目  1.394409\n",
      "7  CS021313000025  神奈川県伊勢原市伊勢原四丁目  神奈川県伊勢原市伊勢原四丁目  0.474282\n",
      "8  CS021413000022  神奈川県伊勢原市伊勢原四丁目  神奈川県伊勢原市伊勢原四丁目  0.474282\n",
      "9  CS021413000094  神奈川県伊勢原市伊勢原四丁目  神奈川県伊勢原市伊勢原四丁目  0.474282\n"
     ]
    }
   ],
   "source": [
    "#写経での回答\n",
    "df_p_086 = pd.DataFrame()\n",
    "\n",
    "# 085で作成した顧客データに対し、会員申込店舗コード（application_store_cd）をキーに店舗データ（df_store）と結合する\n",
    "# 内部結合を用いてデータがないケースを除外する / df_store側は絡むめいをright_onで指定する\n",
    "df_p_086 = pd.merge(df_p_085, df_store, how='inner', left_on='application_store_cd', right_on='store_cd')\n",
    "\n",
    "# 申込み店舗の緯度（latitude）・経度情報（longitude)と顧客住所（address）の緯度・経度を用いて申込み店舗と顧客住所の距離（単位：km）を求める\n",
    "# 計算式は下記の通り\n",
    "def calc_distance(x1,y1,x2,y2):\n",
    "    distance =6371 * math.acos(math.sin(math.radians(y1))* math.sin(math.radians(y2))+ math.cos(math.radians(y1)) * math.cos(math.radians(y2)) * math.cos(math.radians(x1) - math.radians(x2)))\n",
    "    return distance\n",
    "\n",
    "df_p_086['distance'] = df_p_086[['m_longitude','m_latitude','longitude','latitude']].apply(lambda x: calc_distance(x[0], x[1], x[2], x[3]), axis=1)\n",
    "\n",
    "# 顧客ID（customer_id）、顧客住所（address）、店舗住所（address）とともに表示する\n",
    "# 結果を10件表示する\n",
    "print(df_p_086[['customer_id','address','address','distance']].head(10))"
   ]
  },
  {
   "cell_type": "markdown",
   "metadata": {},
   "source": [
    "---\n",
    "> ★P-087: 顧客データ（df_customer）では、異なる店舗での申込みなどにより同一顧客が複数登録されている。名前（customer_name）と郵便番号（postal_cd）が同じ顧客は同一顧客とみなして1顧客1レコードとなるように名寄せした名寄顧客データを作成し、顧客データの件数、名寄顧客データの件数、重複数を算出せよ。ただし、同一顧客に対しては売上金額合計が最も高いものを残し、売上金額合計が同一もしくは売上実績がない顧客については顧客ID（customer_id）の番号が小さいものを残すこととする。"
   ]
  },
  {
   "cell_type": "code",
   "execution_count": 50,
   "metadata": {},
   "outputs": [
    {
     "name": "stdout",
     "output_type": "stream",
     "text": [
      "名寄顧客データ:21941件\n",
      "顧客データ:21971件\n",
      "重複:30件\n",
      "          customer_id customer_name  gender_cd gender birth_day  age  \\\n",
      "16905  CS017415000097         福士 千夏          1     女性  19730403   45   \n",
      "12692  CS015415000185        岩淵 はるみ          1     女性  19730919   45   \n",
      "13550  CS031414000051        長澤 沙知絵          1     女性  19730425   45   \n",
      "4808   CS028415000007         紺野 あい          1     女性  19690728   49   \n",
      "14205  CS001605000009         安部 耕司          0     男性  19521022   66   \n",
      "14760  CS010214000010         高嶋 芽以          1     女性  19910219   28   \n",
      "15709  CS006515000023        竹村 はるみ          1     女性  19630627   55   \n",
      "6353   CS016415000141         西谷 愛梨          1     女性  19740506   44   \n",
      "21458  CS011414000106          紺野 窈          1     女性  19721111   46   \n",
      "20336  CS038415000104        城戸 しほり          1     女性  19710221   48   \n",
      "\n",
      "      postal_cd                    address application_store_cd  \\\n",
      "16905  166-0014        東京都杉並区松ノ木**********               S13017   \n",
      "12692  135-0043         東京都江東区塩浜**********               S13015   \n",
      "13550  151-0064         東京都渋谷区上原**********               S13031   \n",
      "4808   246-0023   神奈川県横浜市瀬谷区阿久和東**********               S14028   \n",
      "14205  144-0035        東京都大田区南蒲田**********               S13001   \n",
      "14760  221-0004   神奈川県横浜市神奈川区西大口**********               S14010   \n",
      "15709  224-0032  神奈川県横浜市都筑区茅ケ崎中央**********               S14006   \n",
      "6353   184-0012        東京都小金井市中町**********               S13016   \n",
      "21458  223-0062   神奈川県横浜市港北区日吉本町**********               S14011   \n",
      "20336  134-0084       東京都江戸川区東葛西**********               S13038   \n",
      "\n",
      "       application_date     status_cd  postal_cd_prefecture  postal_cd_flag  \\\n",
      "16905          20151209  F-20101006-F                   166               1   \n",
      "12692          20150322  F-20101014-F                   135               1   \n",
      "13550          20150823  F-20101009-F                   151               1   \n",
      "4808           20151212  F-20100922-F                   246               2   \n",
      "14205          20160203  F-20101019-E                   144               1   \n",
      "14760          20141106  F-20100909-F                   221               2   \n",
      "15709          20151217  F-20100831-F                   224               2   \n",
      "6353           20150117  F-20100611-F                   184               1   \n",
      "21458          20150921  F-20101028-F                   223               2   \n",
      "20336          20151119  F-20100922-F                   134               1   \n",
      "\n",
      "       prefecture_cd age_category gender_tag sex_age_segment  sum_amount  \n",
      "16905             13          40s          F           F_40s     23086.0  \n",
      "12692             13          40s          F           F_40s     20153.0  \n",
      "13550             13          40s          F           F_40s     19202.0  \n",
      "4808              14          40s          F           F_40s     19127.0  \n",
      "14205             13      over60s          M       M_over60s     18925.0  \n",
      "14760             14          20s          F           F_20s     18585.0  \n",
      "15709             14          50s          F           F_50s     18372.0  \n",
      "6353              13          40s          F           F_40s     18372.0  \n",
      "21458             14          40s          F           F_40s     18338.0  \n",
      "20336             13          40s          F           F_40s     17847.0  \n"
     ]
    }
   ],
   "source": [
    "#写経での回答\n",
    "df_p_087 = pd.DataFrame()\n",
    "\n",
    "# 顧客ごとの売上データを作成する\n",
    "# 顧客データ（df_customer）と売り上げデータを結合する\n",
    "df_p_087_customer_sales = df_receipt.query('not customer_id.str.startswith(\"Z\")', engine='python').groupby('customer_id').agg(sum_amount=('amount','sum')).reset_index()\n",
    "df_p_08_merge = pd.merge(df_customer, df_p_087_customer_sales, how='left', on='customer_id').sort_values(['sum_amount','customer_id'],ascending=[False,True])\n",
    "df_p_08_merge['sum_amount'] = df_p_08_merge['sum_amount'].fillna(0)\n",
    "\n",
    "# 名前（customer_name）と郵便番号（postal_cd）が同じ顧客（重複）は、売上金額合計が最も高いものを残す\n",
    "# 売上金額合計が同一もしくは売上実績がない顧客｜顧客ID（customer_id）の番号が小さいものを残す\n",
    "df_p_087 = df_p_08_merge.drop_duplicates(subset=['customer_name','postal_cd'],keep='first')\n",
    "\n",
    "# 顧客データの件数、名寄顧客データの件数、重複数を算出する\n",
    "print('名寄顧客データ:{}件'.format(df_p_087.shape[0]))\n",
    "print('顧客データ:{}件'.format(df_p_08_merge.shape[0]))\n",
    "print('重複:{}件'.format(df_p_08_merge.shape[0]-df_p_087.shape[0]))\n",
    "\n",
    "# 名寄せデータを表示する\n",
    "print(df_p_087.head(10))"
   ]
  },
  {
   "cell_type": "markdown",
   "metadata": {},
   "source": [
    "---\n",
    "> ★P-088: 087で作成したデータを元に、顧客データに統合名寄IDを付与したデータを作成せよ。ただし、統合名寄IDは以下の仕様で付与するものとする。\n",
    ">\n",
    "> - 重複していない顧客：顧客ID（customer_id）を設定\n",
    "> - 重複している顧客：前設問で抽出したレコードの顧客IDを設定\n",
    "> \n",
    "> 顧客IDのユニーク件数と、統合名寄IDのユニーク件数の差も確認すること。"
   ]
  },
  {
   "cell_type": "code",
   "execution_count": 51,
   "metadata": {},
   "outputs": [
    {
     "name": "stdout",
     "output_type": "stream",
     "text": [
      "ID数の差 30\n",
      "      customer_id customer_name  gender_cd gender birth_day  age postal_cd  \\\n",
      "0  CS021313000114        大野 あや子          1     女性  19810429   37  259-1113   \n",
      "1  CS037613000071         六角 雅彦          9     不明  19520401   66  136-0076   \n",
      "2  CS031415000172       宇多田 貴美子          1     女性  19761004   42  151-0053   \n",
      "3  CS028811000001        堀井 かおり          1     女性  19330327   86  245-0016   \n",
      "4  CS001215000145         田崎 美紀          1     女性  19950329   24  144-0055   \n",
      "5  CS020401000016         宮下 達士          0     男性  19740915   44  174-0065   \n",
      "6  CS015414000103         奥野 陽子          1     女性  19770809   41  136-0073   \n",
      "7  CS029403000008          釈 人志          0     男性  19730817   45  279-0003   \n",
      "8  CS015804000004         松谷 米蔵          0     男性  19310502   87  136-0073   \n",
      "9  CS033513000180          安斎 遥          1     女性  19620711   56  241-0823   \n",
      "\n",
      "                  address application_store_cd  application_date  \\\n",
      "0    神奈川県伊勢原市粟窪**********               S14021          20150905   \n",
      "1      東京都江東区南砂**********               S13037          20150414   \n",
      "2     東京都渋谷区代々木**********               S13031          20150529   \n",
      "3  神奈川県横浜市泉区和泉町**********               S14028          20160115   \n",
      "4     東京都大田区仲六郷**********               S13001          20170605   \n",
      "5      東京都板橋区若木**********               S13020          20150225   \n",
      "6      東京都江東区北砂**********               S13015          20150722   \n",
      "7      千葉県浦安市海楽**********               S12029          20150515   \n",
      "8      東京都江東区北砂**********               S13015          20150607   \n",
      "9  神奈川県横浜市旭区善部町**********               S14033          20150728   \n",
      "\n",
      "      status_cd  postal_cd_prefecture  postal_cd_flag  prefecture_cd  \\\n",
      "0  0-00000000-0                   259               2             14   \n",
      "1  0-00000000-0                   136               1             13   \n",
      "2  D-20100325-C                   151               1             13   \n",
      "3  0-00000000-0                   245               2             14   \n",
      "4  6-20090929-2                   144               1             13   \n",
      "5  0-00000000-0                   174               1             13   \n",
      "6  B-20100609-B                   136               1             13   \n",
      "7  0-00000000-0                   279               2             12   \n",
      "8  0-00000000-0                   136               1             13   \n",
      "9  6-20080506-5                   241               2             14   \n",
      "\n",
      "  age_category gender_tag sex_age_segment  integration_id  \n",
      "0          30s          F           F_30s  CS021313000114  \n",
      "1      over60s          U       U_over60s  CS037613000071  \n",
      "2          40s          F           F_40s  CS031415000172  \n",
      "3      over60s          F       F_over60s  CS028811000001  \n",
      "4          20s          F           F_20s  CS001215000145  \n",
      "5          40s          M           M_40s  CS020401000016  \n",
      "6          40s          F           F_40s  CS015414000103  \n",
      "7          40s          M           M_40s  CS029403000008  \n",
      "8      over60s          M       M_over60s  CS015804000004  \n",
      "9          50s          F           F_50s  CS033513000180  \n"
     ]
    }
   ],
   "source": [
    "# 写経での回答\n",
    "df_p_088 = pd.DataFrame()\n",
    "\n",
    "# 087で作成したデータと顧客データ（df_customer）を結合する\n",
    "# 顧客名と郵便番号で重複を確認\n",
    "# 内部結合で重複を排除｜df_p_87でキーの'customer_name','postal_cd'を指定しつつ、追加列の'customer_id'を指定\n",
    "df_p_088 = pd.merge(df_customer, df_p_087[['customer_name','postal_cd','customer_id']],how='inner', on =['customer_name', 'postal_cd'])\n",
    "df_p_088.rename(columns={'customer_id_x':'customer_id','customer_id_y':'integration_id'}, inplace=True)\n",
    "\n",
    "# 顧客IDのユニーク件数と統合名寄IDのユニーク件数の差を確認する\n",
    "print('ID数の差', len(df_p_088['customer_id'].unique()) - len(df_p_088['integration_id'].unique()))\n",
    "print(df_p_088.head(10))"
   ]
  },
  {
   "cell_type": "markdown",
   "metadata": {},
   "source": [
    "---\n",
    "> ★P-089: 売上実績がある顧客を、予測モデル構築のため学習用データとテスト用データに分割したい。それぞれ8:2の割合でランダムにデータを分割せよ。"
   ]
  },
  {
   "cell_type": "code",
   "execution_count": 83,
   "metadata": {},
   "outputs": [
    {
     "name": "stdout",
     "output_type": "stream",
     "text": [
      "      customer_id customer_name\n",
      "0  CS031415000172       宇多田 貴美子\n",
      "1  CS001215000145         田崎 美紀\n",
      "2  CS015414000103         奥野 陽子\n",
      "3  CS033513000180          安斎 遥\n",
      "4  CS011215000048         芦田 沙耶\n",
      "5  CS040412000191         川井 郁恵\n",
      "6  CS029415000023         梅田 里穂\n",
      "7  CS009315000023         皆川 文世\n",
      "8  CS035415000029         寺沢 真希\n",
      "9  CS015315000033        福士 璃奈子\n",
      "学習データ割合:  0.7999036840837949\n",
      "テストデータ割合:  0.20009631591620516\n"
     ]
    }
   ],
   "source": [
    "# 写経による回答\n",
    "\n",
    "# 分割に必要なライブラリをインポートする\n",
    "from sklearn.model_selection import train_test_split\n",
    "\n",
    "# 購買データから売上実績がある顧客リストを作成する\n",
    "df_p_089_customer = df_receipt.groupby('customer_id').agg({'amount':sum}).reset_index()\n",
    "df_p_089_customer = df_p_089_customer.query('amount > 0')\n",
    "\n",
    "# 整理した顧客リストと顧客データを結合する\n",
    "df_p_089 = pd.merge(df_customer, df_p_089_customer['customer_id'], how='inner', on='customer_id')\n",
    "print(df_p_089[['customer_id', 'customer_name']].head(10))\n",
    "\n",
    "# 結合したデータを分割する\n",
    "df_p_089_train, df_p_089_test = train_test_split(df_p_089, test_size=0.2, random_state=71)\n",
    "\n",
    "# 分割結果を表示する\n",
    "print('学習データ割合: ', len(df_p_089_train) / len(df_p_089))\n",
    "print('テストデータ割合: ', len(df_p_089_test) / len(df_p_089))"
   ]
  },
  {
   "cell_type": "markdown",
   "metadata": {},
   "source": [
    "---\n",
    "> ★P-090: レシート明細データ（df_receipt）は2017年1月1日〜2019年10月31日までのデータを有している。売上金額（amount）を月次で集計し、学習用に12ヶ月、テスト用に6ヶ月の時系列モデル構築用データを3セット作成せよ。"
   ]
  },
  {
   "cell_type": "code",
   "execution_count": 84,
   "metadata": {},
   "outputs": [],
   "source": [
    "# df_receiptから売上金額と年月日のみを抽出する\n",
    "df_p_090_amount = df_receipt[['sales_ymd', 'amount']].copy()\n",
    "df_p_090_amount['sales_ym'] = df_p_090_amount['sales_ymd'].astype('str').str[0:6] # sales_ymdからyyyymmのみを抽出する\n",
    "\n",
    "# sales_ymで売上金額を合計する\n",
    "df_p_090_amount = df_p_090_amount.groupby('sales_ym').agg({'amount':'sum'}).reset_index()\n",
    "\n",
    "\n",
    "# 長期間データに対する多数のデータセットもループなどで処理できるように関数化\n",
    "def split_data(df, train_size, test_size, slide_window, start_point):\n",
    "    train_start = start_point * slide_window\n",
    "    test_start = train_start + train_size\n",
    "    return df[train_start:test_start], df[test_start:test_start + test_size]\n",
    "\n",
    "df_p_090_train_1, df_p_090_test_1 = split_data(df_p_090_amount, train_size=12, test_size=6, slide_window=6, start_point=0)\n",
    "df_p_090_train_2, df_p_090_test_2 = split_data(df_p_090_amount, train_size=12, test_size=6, slide_window=6, start_point=1)\n",
    "df_p_090_train_3, df_p_090_test_3 = split_data(df_p_090_amount, train_size=12, test_size=6, slide_window=6, start_point=2)"
   ]
  },
  {
   "cell_type": "markdown",
   "metadata": {},
   "source": [
    "---\n",
    "> ★P-091: 顧客データ（df_customer）の各顧客に対し、売上実績がある顧客数と売上実績がない顧客数が1:1となるようにアンダーサンプリングで抽出せよ。"
   ]
  },
  {
   "cell_type": "code",
   "execution_count": 86,
   "metadata": {},
   "outputs": [
    {
     "name": "stdout",
     "output_type": "stream",
     "text": [
      "0の件数 8306\n",
      "1の件数 8306\n"
     ]
    }
   ],
   "source": [
    "# 写経での回答\n",
    "# アンダーサンプリング：多数派のデータを少数派のデータ数に合わせて削除する手法\n",
    "\n",
    "from imblearn.under_sampling import RandomUnderSampler\n",
    "\n",
    "# 売上実績がある顧客リストを作成する\n",
    "df_p_091 = df_receipt.groupby('customer_id').agg({'amount':'sum'}).reset_index()\n",
    "df_p_091 = pd.merge(df_customer, df_p_091, how='left', on='customer_id') #顧客データと顧客リストを結合する｜外部結合にし、売上実績がない顧客を残しておく\n",
    "df_p_091['is_buy_flag'] = np.where(df_p_091['amount'].isnull(), 0, 1) #売上実績がない場合に0を、ある場合には1を'is_buy_flag'に投入する\n",
    "\n",
    "# RandomUnderSamplerクラスのインスタンスを生成し、fit_sample(X, y)のようにすることで、yの値が均等になるようにアンダーサンプリングがXに対して行われます。\n",
    "df_p_091_rs = RandomUnderSampler(random_state=71) #random_stateを設定することで再現性や乱数生成の一貫性を担保する\n",
    "df_p_091_down_sampling, _ = df_p_091_rs.fit_resample(df_p_091, df_p_091.is_buy_flag)\n",
    "\n",
    "print('0の件数', len(df_p_091_down_sampling.query('is_buy_flag == 0')))\n",
    "print('1の件数', len(df_p_091_down_sampling.query('is_buy_flag == 1')))"
   ]
  },
  {
   "cell_type": "markdown",
   "metadata": {},
   "source": [
    "---\n",
    "> ★P-092: 顧客データ（df_customer）の性別について、第三正規形へと正規化せよ。"
   ]
  },
  {
   "cell_type": "code",
   "execution_count": 87,
   "metadata": {},
   "outputs": [
    {
     "name": "stdout",
     "output_type": "stream",
     "text": [
      "   gender_cd gender\n",
      "0          1     女性\n",
      "1          9     不明\n",
      "5          0     男性\n",
      "      customer_id customer_name  gender_cd   birth_day  age postal_cd  \\\n",
      "0  CS021313000114        大野 あや子          1  1981-04-29   37  259-1113   \n",
      "1  CS037613000071         六角 雅彦          9  1952-04-01   66  136-0076   \n",
      "2  CS031415000172       宇多田 貴美子          1  1976-10-04   42  151-0053   \n",
      "3  CS028811000001        堀井 かおり          1  1933-03-27   86  245-0016   \n",
      "4  CS001215000145         田崎 美紀          1  1995-03-29   24  144-0055   \n",
      "5  CS020401000016         宮下 達士          0  1974-09-15   44  174-0065   \n",
      "6  CS015414000103         奥野 陽子          1  1977-08-09   41  136-0073   \n",
      "7  CS029403000008          釈 人志          0  1973-08-17   45  279-0003   \n",
      "8  CS015804000004         松谷 米蔵          0  1931-05-02   87  136-0073   \n",
      "9  CS033513000180          安斎 遥          1  1962-07-11   56  241-0823   \n",
      "\n",
      "                  address application_store_cd  application_date     status_cd  \n",
      "0    神奈川県伊勢原市粟窪**********               S14021          20150905  0-00000000-0  \n",
      "1      東京都江東区南砂**********               S13037          20150414  0-00000000-0  \n",
      "2     東京都渋谷区代々木**********               S13031          20150529  D-20100325-C  \n",
      "3  神奈川県横浜市泉区和泉町**********               S14028          20160115  0-00000000-0  \n",
      "4     東京都大田区仲六郷**********               S13001          20170605  6-20090929-2  \n",
      "5      東京都板橋区若木**********               S13020          20150225  0-00000000-0  \n",
      "6      東京都江東区北砂**********               S13015          20150722  B-20100609-B  \n",
      "7      千葉県浦安市海楽**********               S12029          20150515  0-00000000-0  \n",
      "8      東京都江東区北砂**********               S13015          20150607  0-00000000-0  \n",
      "9  神奈川県横浜市旭区善部町**********               S14033          20150728  6-20080506-5  \n"
     ]
    }
   ],
   "source": [
    "# 写経での回答\n",
    "# 第三正規形：段階的な従属関係にする（性別と性別cd、その他のデータがdf_customer内に格納されているので切り出す）\n",
    "\n",
    "df_p_092_gender = df_customer[['gender_cd', 'gender']].drop_duplicates()\n",
    "df_p_092_customer = df_customer.drop(columns='gender')\n",
    "\n",
    "print(df_p_092_gender.head(10))\n",
    "print(df_p_092_customer.head(10))"
   ]
  },
  {
   "cell_type": "markdown",
   "metadata": {},
   "source": [
    "---\n",
    "> ★P-093: 商品データ（df_product）では各カテゴリのコード値だけを保有し、カテゴリ名は保有していない。カテゴリデータ（df_category）と組み合わせて非正規化し、カテゴリ名を保有した新たな商品データを作成せよ。"
   ]
  },
  {
   "cell_type": "code",
   "execution_count": 91,
   "metadata": {},
   "outputs": [
    {
     "name": "stdout",
     "output_type": "stream",
     "text": [
      "   product_cd  category_major_cd  category_medium_cd  category_small_cd  \\\n",
      "0  P040101001                  4                 401              40101   \n",
      "1  P040101002                  4                 401              40101   \n",
      "2  P040101003                  4                 401              40101   \n",
      "\n",
      "   unit_price  unit_cost category_major_name category_medium_name  \\\n",
      "0       198.0      149.0                  惣菜                  御飯類   \n",
      "1       218.0      164.0                  惣菜                  御飯類   \n",
      "2       230.0      173.0                  惣菜                  御飯類   \n",
      "\n",
      "  category_small_name  \n",
      "0                 弁当類  \n",
      "1                 弁当類  \n",
      "2                 弁当類  \n"
     ]
    }
   ],
   "source": [
    "df_p_093 = pd.merge(df_product, df_category[['category_small_cd','category_major_name','category_medium_name','category_small_name']], how='inner', on='category_small_cd')\n",
    "\n",
    "print(df_p_093.head(3))"
   ]
  },
  {
   "cell_type": "markdown",
   "metadata": {},
   "source": [
    "---\n",
    "> ★P-096: 093で作成したカテゴリ名付き商品データを以下の仕様でファイル出力せよ。\n",
    ">\n",
    "> |ファイル形式|ヘッダ有無|文字エンコーディング|\n",
    "> |:--:|:--:|:--:|\n",
    "> |CSV（カンマ区切り）|無し|UTF-8|\n",
    "> \n",
    "> ファイル出力先のパスは以下のようにすること。\n",
    "> \n",
    "> |出力先|\n",
    "> |:--:|\n",
    "> |./data|"
   ]
  },
  {
   "cell_type": "code",
   "execution_count": 94,
   "metadata": {},
   "outputs": [],
   "source": [
    "df_p_093.to_csv('../df_p_093.csv', encoding='utf-8',header=False, index=False)"
   ]
  },
  {
   "cell_type": "markdown",
   "metadata": {},
   "source": [
    "\n",
    "---\n",
    "> ★P-098: 096で作成した以下形式のファイルを読み込み、データを3件を表示させて正しく取り込まれていることを確認せよ。\n",
    "> \n",
    "> |ファイル形式|ヘッダ有無|文字エンコーディング|\n",
    "> |:--:|:--:|:--:|\n",
    "> |CSV（カンマ区切り）|ヘッダ無し|UTF-8|"
   ]
  },
  {
   "cell_type": "code",
   "execution_count": 96,
   "metadata": {},
   "outputs": [
    {
     "name": "stdout",
     "output_type": "stream",
     "text": [
      "   product_cd category_major_cd category_medium_cd category_small_cd  \\\n",
      "0  P040101001                 4                401             40101   \n",
      "1  P040101002                 4                401             40101   \n",
      "2  P040101003                 4                401             40101   \n",
      "3  P040101004                 4                401             40101   \n",
      "4  P040101005                 4                401             40101   \n",
      "5  P040101006                 4                401             40101   \n",
      "6  P040101007                 4                401             40101   \n",
      "7  P040101008                 4                401             40101   \n",
      "8  P040101009                 4                401             40101   \n",
      "9  P040101010                 4                401             40101   \n",
      "\n",
      "   unit_price  unit_cost category_major_name category_medium_name  \\\n",
      "0       198.0      149.0                  惣菜                  御飯類   \n",
      "1       218.0      164.0                  惣菜                  御飯類   \n",
      "2       230.0      173.0                  惣菜                  御飯類   \n",
      "3       248.0      186.0                  惣菜                  御飯類   \n",
      "4       268.0      201.0                  惣菜                  御飯類   \n",
      "5       298.0      224.0                  惣菜                  御飯類   \n",
      "6       338.0      254.0                  惣菜                  御飯類   \n",
      "7       420.0      315.0                  惣菜                  御飯類   \n",
      "8       498.0      374.0                  惣菜                  御飯類   \n",
      "9       580.0      435.0                  惣菜                  御飯類   \n",
      "\n",
      "  category_small_name  \n",
      "0                 弁当類  \n",
      "1                 弁当類  \n",
      "2                 弁当類  \n",
      "3                 弁当類  \n",
      "4                 弁当類  \n",
      "5                 弁当類  \n",
      "6                 弁当類  \n",
      "7                 弁当類  \n",
      "8                 弁当類  \n",
      "9                 弁当類  \n"
     ]
    }
   ],
   "source": [
    "#写経にて回答\n",
    "\n",
    "# read_csvでcsvを読み込み、下記の引数で指定\n",
    "# dtypeでカラムのデータ型を指定する\n",
    "# headerがないので、Noneを指定\n",
    "df_p_098 = pd.read_csv('../df_p_093.csv',\n",
    "                       dtype={1:str,\n",
    "                              2:str,\n",
    "                              3:str},\n",
    "                       encoding='utf-8',header=None)\n",
    "\n",
    "# カラムがないため、直接指定する\n",
    "df_p_098.columns = ['product_cd','category_major_cd',\n",
    "                           'category_medium_cd', 'category_small_cd',\n",
    "                           'unit_price','unit_cost','category_major_name',\n",
    "                           'category_medium_name', 'category_small_name']\n",
    "\n",
    "print(df_p_098.head(10))\n"
   ]
  },
  {
   "cell_type": "markdown",
   "metadata": {},
   "source": [
    "---\n",
    "> P-001: レシート明細データ（df_receipt）から全項目の先頭10件を表示し、どのようなデータを保有しているか目視で確認せよ。"
   ]
  },
  {
   "cell_type": "code",
   "execution_count": null,
   "metadata": {},
   "outputs": [],
   "source": []
  },
  {
   "cell_type": "markdown",
   "metadata": {},
   "source": [
    "---\n",
    "> P-002: レシート明細データ（df_receipt）から売上年月日（sales_ymd）、顧客ID（customer_id）、商品コード（product_cd）、売上金額（amount）の順に列を指定し、10件表示せよ。"
   ]
  },
  {
   "cell_type": "code",
   "execution_count": null,
   "metadata": {},
   "outputs": [],
   "source": []
  },
  {
   "cell_type": "markdown",
   "metadata": {},
   "source": [
    "---\n",
    "> P-004: レシート明細データ（df_receipt）から売上日（sales_ymd）、顧客ID（customer_id）、商品コード（product_cd）、売上金額（amount）の順に列を指定し、以下の条件を満たすデータを抽出せよ。\n",
    "> - 顧客ID（customer_id）が\"CS018205000001\""
   ]
  },
  {
   "cell_type": "code",
   "execution_count": null,
   "metadata": {},
   "outputs": [],
   "source": []
  },
  {
   "cell_type": "markdown",
   "metadata": {},
   "source": [
    "---\n",
    "> P-005: レシート明細データ（df_receipt）から売上日（sales_ymd）、顧客ID（customer_id）、商品コード（product_cd）、売上金額（amount）の順に列を指定し、以下の全ての条件を満たすデータを抽出せよ。\n",
    "> - 顧客ID（customer_id）が\"CS018205000001\"\n",
    "> - 売上金額（amount）が1,000以上"
   ]
  },
  {
   "cell_type": "code",
   "execution_count": null,
   "metadata": {},
   "outputs": [],
   "source": []
  },
  {
   "cell_type": "markdown",
   "metadata": {},
   "source": [
    "---\n",
    "> P-006: レシート明細データ（df_receipt）から売上日（sales_ymd）、顧客ID（customer_id）、商品コード（product_cd）、売上数量（quantity）、売上金額（amount）の順に列を指定し、以下の全ての条件を満たすデータを抽出せよ。\n",
    "> - 顧客ID（customer_id）が\"CS018205000001\"\n",
    "> - 売上金額（amount）が1,000以上または売上数量（quantity）が5以上"
   ]
  },
  {
   "cell_type": "code",
   "execution_count": null,
   "metadata": {},
   "outputs": [],
   "source": []
  },
  {
   "cell_type": "markdown",
   "metadata": {},
   "source": [
    "---\n",
    "> P-008: レシート明細データ（df_receipt）から売上日（sales_ymd）、顧客ID（customer_id）、商品コード（product_cd）、売上金額（amount）の順に列を指定し、以下の全ての条件を満たすデータを抽出せよ。\n",
    "> - 顧客ID（customer_id）が\"CS018205000001\"\n",
    "> - 商品コード（product_cd）が\"P071401019\"以外"
   ]
  },
  {
   "cell_type": "code",
   "execution_count": null,
   "metadata": {},
   "outputs": [],
   "source": []
  },
  {
   "cell_type": "markdown",
   "metadata": {},
   "source": [
    "---\n",
    "> P-009: 以下の処理において、出力結果を変えずにORをANDに書き換えよ。\n",
    "> \n",
    "> `df_store.query('not(prefecture_cd == \"13\" | floor_area > 900)')`"
   ]
  },
  {
   "cell_type": "code",
   "execution_count": null,
   "metadata": {},
   "outputs": [],
   "source": []
  },
  {
   "cell_type": "markdown",
   "metadata": {},
   "source": [
    "---\n",
    "> P-010: 店舗データ（df_store）から、店舗コード（store_cd）が\"S14\"で始まるものだけ全項目抽出し、10件表示せよ。"
   ]
  },
  {
   "cell_type": "code",
   "execution_count": null,
   "metadata": {},
   "outputs": [],
   "source": []
  },
  {
   "cell_type": "markdown",
   "metadata": {},
   "source": [
    "---\n",
    "> P-011: 顧客データ（df_customer）から顧客ID（customer_id）の末尾が1のものだけ全項目抽出し、10件表示せよ。"
   ]
  },
  {
   "cell_type": "code",
   "execution_count": null,
   "metadata": {},
   "outputs": [],
   "source": []
  },
  {
   "cell_type": "markdown",
   "metadata": {},
   "source": [
    "---\n",
    "> P-012: 店舗データ（df_store）から、住所 (address) に\"横浜市\"が含まれるものだけ全項目表示せよ。"
   ]
  },
  {
   "cell_type": "code",
   "execution_count": null,
   "metadata": {},
   "outputs": [],
   "source": []
  },
  {
   "cell_type": "markdown",
   "metadata": {},
   "source": [
    "---\n",
    "> P-014: 顧客データ（df_customer）から、ステータスコード（status_cd）の末尾が数字の1〜9で終わるデータを全項目抽出し、10件表示せよ。"
   ]
  },
  {
   "cell_type": "code",
   "execution_count": null,
   "metadata": {},
   "outputs": [],
   "source": []
  },
  {
   "cell_type": "markdown",
   "metadata": {},
   "source": [
    "---\n",
    "> P-015: 顧客データ（df_customer）から、ステータスコード（status_cd）の先頭がアルファベットのA〜Fで始まり、末尾が数字の1〜9で終わるデータを全項目抽出し、10件表示せよ。"
   ]
  },
  {
   "cell_type": "code",
   "execution_count": null,
   "metadata": {},
   "outputs": [],
   "source": []
  },
  {
   "cell_type": "markdown",
   "metadata": {},
   "source": [
    "---\n",
    "> P-017: 顧客データ（df_customer）を生年月日（birth_day）で高齢順にソートし、先頭から全項目を10件表示せよ。"
   ]
  },
  {
   "cell_type": "code",
   "execution_count": null,
   "metadata": {},
   "outputs": [],
   "source": []
  },
  {
   "cell_type": "markdown",
   "metadata": {},
   "source": [
    "---\n",
    "> P-018: 顧客データ（df_customer）を生年月日（birth_day）で若い順にソートし、先頭から全項目を10件表示せよ。"
   ]
  },
  {
   "cell_type": "code",
   "execution_count": null,
   "metadata": {},
   "outputs": [],
   "source": []
  },
  {
   "cell_type": "markdown",
   "metadata": {},
   "source": [
    "---\n",
    "> P-019: レシート明細データ（df_receipt）に対し、1件あたりの売上金額（amount）が高い順にランクを付与し、先頭から10件表示せよ。項目は顧客ID（customer_id）、売上金額（amount）、付与したランクを表示させること。なお、売上金額（amount）が等しい場合は同一順位を付与するものとする。"
   ]
  },
  {
   "cell_type": "code",
   "execution_count": null,
   "metadata": {},
   "outputs": [],
   "source": []
  },
  {
   "cell_type": "markdown",
   "metadata": {},
   "source": [
    "---\n",
    "> P-020: レシート明細データ（df_receipt）に対し、1件あたりの売上金額（amount）が高い順にランクを付与し、先頭から10件表示せよ。項目は顧客ID（customer_id）、売上金額（amount）、付与したランクを表示させること。なお、売上金額（amount）が等しい場合でも別順位を付与すること。"
   ]
  },
  {
   "cell_type": "code",
   "execution_count": null,
   "metadata": {},
   "outputs": [],
   "source": []
  },
  {
   "cell_type": "markdown",
   "metadata": {},
   "source": [
    "---\n",
    "> P-021: レシート明細データ（df_receipt）に対し、件数をカウントせよ。"
   ]
  },
  {
   "cell_type": "code",
   "execution_count": null,
   "metadata": {},
   "outputs": [],
   "source": []
  },
  {
   "cell_type": "markdown",
   "metadata": {},
   "source": [
    "---\n",
    "> P-023: レシート明細データ（df_receipt）に対し、店舗コード（store_cd）ごとに売上金額（amount）と売上数量（quantity）を合計せよ。"
   ]
  },
  {
   "cell_type": "code",
   "execution_count": null,
   "metadata": {},
   "outputs": [],
   "source": []
  },
  {
   "cell_type": "markdown",
   "metadata": {},
   "source": [
    "---\n",
    "> P-024: レシート明細データ（df_receipt）に対し、顧客ID（customer_id）ごとに最も新しい売上年月日（sales_ymd）を求め、10件表示せよ。"
   ]
  },
  {
   "cell_type": "code",
   "execution_count": null,
   "metadata": {},
   "outputs": [],
   "source": []
  },
  {
   "cell_type": "markdown",
   "metadata": {},
   "source": [
    "---\n",
    "> P-025: レシート明細データ（df_receipt）に対し、顧客ID（customer_id）ごとに最も古い売上年月日（sales_ymd）を求め、10件表示せよ。"
   ]
  },
  {
   "cell_type": "code",
   "execution_count": null,
   "metadata": {},
   "outputs": [],
   "source": []
  },
  {
   "cell_type": "markdown",
   "metadata": {},
   "source": [
    "---\n",
    "> P-028: レシート明細データ（df_receipt）に対し、店舗コード（store_cd）ごとに売上金額（amount）の中央値を計算し、降順でTOP5を表示せよ。"
   ]
  },
  {
   "cell_type": "code",
   "execution_count": null,
   "metadata": {},
   "outputs": [],
   "source": []
  },
  {
   "cell_type": "markdown",
   "metadata": {},
   "source": [
    "---\n",
    "> P-029: レシート明細データ（df_receipt）に対し、店舗コード（store_cd）ごとに商品コード（product_cd）の最頻値を求め、10件表示させよ。"
   ]
  },
  {
   "cell_type": "code",
   "execution_count": null,
   "metadata": {},
   "outputs": [],
   "source": []
  },
  {
   "cell_type": "markdown",
   "metadata": {},
   "source": [
    "---\n",
    "> P-030: レシート明細データ（df_receipt）に対し、店舗コード（store_cd）ごとに売上金額（amount）の分散を計算し、降順で5件表示せよ。"
   ]
  },
  {
   "cell_type": "code",
   "execution_count": null,
   "metadata": {},
   "outputs": [],
   "source": []
  },
  {
   "cell_type": "markdown",
   "metadata": {},
   "source": [
    "---\n",
    "> P-031: レシート明細データ（df_receipt）に対し、店舗コード（store_cd）ごとに売上金額（amount）の標準偏差を計算し、降順で5件表示せよ。"
   ]
  },
  {
   "cell_type": "markdown",
   "metadata": {},
   "source": [
    "TIPS:\n",
    "\n",
    "PandasとNumpyでddofのデフォルト値が異なることに注意しましょう\n",
    "```\n",
    "Pandas：\n",
    "DataFrame.std(self, axis=None, skipna=None, level=None, ddof=1, numeric_only=None, **kwargs)\n",
    "Numpy:\n",
    "numpy.std(a, axis=None, dtype=None, out=None, ddof=0, keepdims=)\n",
    "```"
   ]
  },
  {
   "cell_type": "code",
   "execution_count": null,
   "metadata": {},
   "outputs": [],
   "source": []
  },
  {
   "cell_type": "markdown",
   "metadata": {},
   "source": [
    "---\n",
    "> P-032: レシート明細データ（df_receipt）の売上金額（amount）について、25％刻みでパーセンタイル値を求めよ。"
   ]
  },
  {
   "cell_type": "code",
   "execution_count": null,
   "metadata": {},
   "outputs": [],
   "source": []
  },
  {
   "cell_type": "markdown",
   "metadata": {},
   "source": [
    "---\n",
    "> P-033: レシート明細データ（df_receipt）に対し、店舗コード（store_cd）ごとに売上金額（amount）の平均を計算し、330以上のものを抽出せよ。"
   ]
  },
  {
   "cell_type": "code",
   "execution_count": null,
   "metadata": {},
   "outputs": [],
   "source": []
  },
  {
   "cell_type": "markdown",
   "metadata": {},
   "source": [
    "---\n",
    "> P-034: レシート明細データ（df_receipt）に対し、顧客ID（customer_id）ごとに売上金額（amount）を合計して全顧客の平均を求めよ。ただし、顧客IDが\"Z\"から始まるものは非会員を表すため、除外して計算すること。"
   ]
  },
  {
   "cell_type": "code",
   "execution_count": null,
   "metadata": {},
   "outputs": [],
   "source": []
  },
  {
   "cell_type": "markdown",
   "metadata": {},
   "source": [
    "---\n",
    "> P-035: レシート明細データ（df_receipt）に対し、顧客ID（customer_id）ごとに売上金額（amount）を合計して全顧客の平均を求め、平均以上に買い物をしている顧客を抽出し、10件表示せよ。ただし、顧客IDが\"Z\"から始まるものは非会員を表すため、除外して計算すること。"
   ]
  },
  {
   "cell_type": "code",
   "execution_count": null,
   "metadata": {},
   "outputs": [],
   "source": []
  },
  {
   "cell_type": "markdown",
   "metadata": {},
   "source": [
    "---\n",
    "> P-037: 商品データ（df_product）とカテゴリデータ（df_category）を内部結合し、商品データの全項目とカテゴリデータのカテゴリ小区分名（category_small_name）を10件表示せよ。"
   ]
  },
  {
   "cell_type": "code",
   "execution_count": null,
   "metadata": {},
   "outputs": [],
   "source": []
  },
  {
   "cell_type": "markdown",
   "metadata": {},
   "source": [
    "---\n",
    "> P-038: 顧客データ（df_customer）とレシート明細データ（df_receipt）から、顧客ごとの売上金額合計を求め、10件表示せよ。ただし、売上実績がない顧客については売上金額を0として表示させること。また、顧客は性別コード（gender_cd）が女性（1）であるものを対象とし、非会員（顧客IDが\"Z\"から始まるもの）は除外すること。"
   ]
  },
  {
   "cell_type": "code",
   "execution_count": null,
   "metadata": {},
   "outputs": [],
   "source": []
  },
  {
   "cell_type": "markdown",
   "metadata": {},
   "source": [
    "---\n",
    "> P-039: レシート明細データ（df_receipt）から、売上日数の多い顧客の上位20件を抽出したデータと、売上金額合計の多い顧客の上位20件を抽出したデータをそれぞれ作成し、さらにその2つを完全外部結合せよ。ただし、非会員（顧客IDが\"Z\"から始まるもの）は除外すること。"
   ]
  },
  {
   "cell_type": "code",
   "execution_count": null,
   "metadata": {},
   "outputs": [],
   "source": []
  },
  {
   "cell_type": "markdown",
   "metadata": {},
   "source": [
    "---\n",
    "> P-040: 全ての店舗と全ての商品を組み合わせたデータを作成したい。店舗データ（df_store）と商品データ（df_product）を直積し、件数を計算せよ。"
   ]
  },
  {
   "cell_type": "code",
   "execution_count": null,
   "metadata": {},
   "outputs": [],
   "source": []
  },
  {
   "cell_type": "markdown",
   "metadata": {},
   "source": [
    "---\n",
    "> P-041: レシート明細データ（df_receipt）の売上金額（amount）を日付（sales_ymd）ごとに集計し、前回売上があった日からの売上金額増減を計算せよ。そして結果を10件表示せよ。"
   ]
  },
  {
   "cell_type": "code",
   "execution_count": null,
   "metadata": {},
   "outputs": [],
   "source": []
  },
  {
   "cell_type": "markdown",
   "metadata": {},
   "source": [
    "---\n",
    "> P-042: レシート明細データ（df_receipt）の売上金額（amount）を日付（sales_ymd）ごとに集計し、各日付のデータに対し、前回、前々回、3回前に売上があった日のデータを結合せよ。そして結果を10件表示せよ。"
   ]
  },
  {
   "cell_type": "code",
   "execution_count": null,
   "metadata": {},
   "outputs": [],
   "source": []
  },
  {
   "cell_type": "markdown",
   "metadata": {},
   "source": [
    "---\n",
    "> P-043： レシート明細データ（df_receipt）と顧客データ（df_customer）を結合し、性別コード（gender_cd）と年代（ageから計算）ごとに売上金額（amount）を合計した売上サマリデータを作成せよ。性別コードは0が男性、1が女性、9が不明を表すものとする。\n",
    ">\n",
    "> ただし、項目構成は年代、女性の売上金額、男性の売上金額、性別不明の売上金額の4項目とすること（縦に年代、横に性別のクロス集計）。また、年代は10歳ごとの階級とすること。"
   ]
  },
  {
   "cell_type": "code",
   "execution_count": null,
   "metadata": {},
   "outputs": [],
   "source": []
  },
  {
   "cell_type": "markdown",
   "metadata": {},
   "source": [
    "---\n",
    "> P-044： 043で作成した売上サマリデータ（df_sales_summary）は性別の売上を横持ちさせたものであった。このデータから性別を縦持ちさせ、年代、性別コード、売上金額の3項目に変換せよ。ただし、性別コードは男性を\"00\"、女性を\"01\"、不明を\"99\"とする。"
   ]
  },
  {
   "cell_type": "code",
   "execution_count": null,
   "metadata": {},
   "outputs": [],
   "source": []
  },
  {
   "cell_type": "markdown",
   "metadata": {},
   "source": [
    "---\n",
    "> P-046: 顧客データ（df_customer）の申し込み日（application_date）はYYYYMMDD形式の文字列型でデータを保有している。これを日付型に変換し、顧客ID（customer_id）とともに10件表示せよ。"
   ]
  },
  {
   "cell_type": "code",
   "execution_count": null,
   "metadata": {},
   "outputs": [],
   "source": []
  },
  {
   "cell_type": "markdown",
   "metadata": {},
   "source": [
    "---\n",
    "> P-047: レシート明細データ（df_receipt）の売上日（sales_ymd）はYYYYMMDD形式の数値型でデータを保有している。これを日付型に変換し、レシート番号（receipt_no）、レシートサブ番号（receipt_sub_no）とともに10件表示せよ。"
   ]
  },
  {
   "cell_type": "code",
   "execution_count": null,
   "metadata": {},
   "outputs": [],
   "source": []
  },
  {
   "cell_type": "markdown",
   "metadata": {},
   "source": [
    "---\n",
    "> P-048: レシート明細データ（df_receipt）の売上エポック秒（sales_epoch）は数値型のUNIX秒でデータを保有している。これを日付型に変換し、レシート番号(receipt_no)、レシートサブ番号（receipt_sub_no）とともに10件表示せよ。"
   ]
  },
  {
   "cell_type": "code",
   "execution_count": null,
   "metadata": {},
   "outputs": [],
   "source": []
  },
  {
   "cell_type": "markdown",
   "metadata": {},
   "source": [
    "---\n",
    "> P-049: レシート明細データ（df_receipt）の売上エポック秒（sales_epoch）を日付型に変換し、「年」だけ取り出してレシート番号(receipt_no)、レシートサブ番号（receipt_sub_no）とともに10件表示せよ。"
   ]
  },
  {
   "cell_type": "code",
   "execution_count": null,
   "metadata": {},
   "outputs": [],
   "source": []
  },
  {
   "cell_type": "markdown",
   "metadata": {},
   "source": [
    "---\n",
    "> P-050: レシート明細データ（df_receipt）の売上エポック秒（sales_epoch）を日付型に変換し、「月」だけ取り出してレシート番号(receipt_no)、レシートサブ番号（receipt_sub_no）とともに10件表示せよ。なお、「月」は0埋め2桁で取り出すこと。"
   ]
  },
  {
   "cell_type": "code",
   "execution_count": null,
   "metadata": {},
   "outputs": [],
   "source": []
  },
  {
   "cell_type": "markdown",
   "metadata": {},
   "source": [
    "---\n",
    "> P-060: レシート明細データ（df_receipt）の売上金額（amount）を顧客ID（customer_id）ごとに合計し、売上金額合計を最小値0、最大値1に正規化して顧客ID、売上金額合計とともに10件表示せよ。ただし、顧客IDが\"Z\"から始まるのものは非会員を表すため、除外して計算すること。"
   ]
  },
  {
   "cell_type": "code",
   "execution_count": null,
   "metadata": {},
   "outputs": [],
   "source": []
  },
  {
   "cell_type": "markdown",
   "metadata": {},
   "source": [
    "---\n",
    "> P-061: レシート明細データ（df_receipt）の売上金額（amount）を顧客ID（customer_id）ごとに合計し、売上金額合計を常用対数化（底10）して顧客ID、売上金額合計とともに10件表示せよ。ただし、顧客IDが\"Z\"から始まるのものは非会員を表すため、除外して計算すること。"
   ]
  },
  {
   "cell_type": "code",
   "execution_count": null,
   "metadata": {},
   "outputs": [],
   "source": []
  },
  {
   "cell_type": "markdown",
   "metadata": {},
   "source": [
    "---\n",
    "> P-062: レシート明細データ（df_receipt）の売上金額（amount）を顧客ID（customer_id）ごとに合計し、売上金額合計を自然対数化（底e）して顧客ID、売上金額合計とともに10件表示せよ。ただし、顧客IDが\"Z\"から始まるのものは非会員を表すため、除外して計算すること。"
   ]
  },
  {
   "cell_type": "code",
   "execution_count": null,
   "metadata": {},
   "outputs": [],
   "source": []
  },
  {
   "cell_type": "markdown",
   "metadata": {},
   "source": [
    "---\n",
    "> P-064: 商品データ（df_product）の単価（unit_price）と原価（unit_cost）から、各商品の利益率の全体平均を算出せよ。ただし、単価と原価には欠損が生じていることに注意せよ。"
   ]
  },
  {
   "cell_type": "code",
   "execution_count": null,
   "metadata": {},
   "outputs": [],
   "source": []
  },
  {
   "cell_type": "markdown",
   "metadata": {},
   "source": [
    "---\n",
    "> P-066: 商品データ（df_product）の各商品について、利益率が30%となる新たな単価を求めよ。今回は、1円未満を丸めること（四捨五入または偶数への丸めで良い）。そして結果を10件表示させ、利益率がおよそ30％付近であることを確認せよ。ただし、単価（unit_price）と原価（unit_cost）には欠損が生じていることに注意せよ。"
   ]
  },
  {
   "cell_type": "code",
   "execution_count": null,
   "metadata": {},
   "outputs": [],
   "source": []
  },
  {
   "cell_type": "markdown",
   "metadata": {},
   "source": [
    "---\n",
    "> P-067: 商品データ（df_product）の各商品について、利益率が30%となる新たな単価を求めよ。今回は、1円未満を切り上げること。そして結果を10件表示させ、利益率がおよそ30％付近であることを確認せよ。ただし、単価（unit_price）と原価（unit_cost）には欠損が生じていることに注意せよ。"
   ]
  },
  {
   "cell_type": "code",
   "execution_count": null,
   "metadata": {},
   "outputs": [],
   "source": []
  },
  {
   "cell_type": "markdown",
   "metadata": {},
   "source": [
    "---\n",
    "> P-068: 商品データ（df_product）の各商品について、消費税率10％の税込み金額を求めよ。1円未満の端数は切り捨てとし、結果を10件表示せよ。ただし、単価（unit_price）には欠損が生じていることに注意せよ。"
   ]
  },
  {
   "cell_type": "code",
   "execution_count": null,
   "metadata": {},
   "outputs": [],
   "source": []
  },
  {
   "cell_type": "markdown",
   "metadata": {},
   "source": [
    "---\n",
    "> P-071: レシート明細データ（df_receipt）の売上日（sales_ymd）に対し、顧客データ（df_customer）の会員申込日（application_date）からの経過月数を計算し、顧客ID（customer_id）、売上日、会員申込日とともに10件表示せよ（sales_ymdは数値、application_dateは文字列でデータを保持している点に注意）。1ヶ月未満は切り捨てること。"
   ]
  },
  {
   "cell_type": "code",
   "execution_count": null,
   "metadata": {},
   "outputs": [],
   "source": []
  },
  {
   "cell_type": "markdown",
   "metadata": {},
   "source": [
    "---\n",
    "> P-072: レシート明細データ（df_receipt）の売上日（df_customer）に対し、顧客データ（df_customer）の会員申込日（application_date）からの経過年数を計算し、顧客ID（customer_id）、売上日、会員申込日とともに10件表示せよ（sales_ymdは数値、application_dateは文字列でデータを保持している点に注意）。1年未満は切り捨てること。"
   ]
  },
  {
   "cell_type": "code",
   "execution_count": null,
   "metadata": {},
   "outputs": [],
   "source": []
  },
  {
   "cell_type": "markdown",
   "metadata": {},
   "source": [
    "---\n",
    "> P-073: レシート明細データ（df_receipt）の売上日（sales_ymd）に対し、顧客データ（df_customer）の会員申込日（application_date）からのエポック秒による経過時間を計算し、顧客ID（customer_id）、売上日、会員申込日とともに10件表示せよ（なお、sales_ymdは数値、application_dateは文字列でデータを保持している点に注意）。なお、時間情報は保有していないため各日付は0時0分0秒を表すものとする。"
   ]
  },
  {
   "cell_type": "code",
   "execution_count": null,
   "metadata": {},
   "outputs": [],
   "source": []
  },
  {
   "cell_type": "markdown",
   "metadata": {},
   "source": [
    "---\n",
    "> P-074: レシート明細データ（df_receipt）の売上日（sales_ymd）に対し、当該週の月曜日からの経過日数を計算し、売上日、直前の月曜日付とともに10件表示せよ（sales_ymdは数値でデータを保持している点に注意）。"
   ]
  },
  {
   "cell_type": "code",
   "execution_count": null,
   "metadata": {},
   "outputs": [],
   "source": []
  },
  {
   "cell_type": "markdown",
   "metadata": {},
   "source": [
    "---\n",
    "> P-079: 商品データ（df_product）の各項目に対し、欠損数を確認せよ。"
   ]
  },
  {
   "cell_type": "code",
   "execution_count": null,
   "metadata": {},
   "outputs": [],
   "source": []
  },
  {
   "cell_type": "markdown",
   "metadata": {},
   "source": [
    "---\n",
    "> P-080: 商品データ（df_product）のいずれかの項目に欠損が発生しているレコードを全て削除した新たな商品データを作成せよ。なお、削除前後の件数を表示させ、079で確認した件数だけ減少していることも確認すること。"
   ]
  },
  {
   "cell_type": "code",
   "execution_count": null,
   "metadata": {},
   "outputs": [],
   "source": []
  },
  {
   "cell_type": "markdown",
   "metadata": {
    "tags": []
   },
   "source": [
    "---\n",
    "> P-082: 単価（unit_price）と原価（unit_cost）の欠損値について、それぞれの中央値で補完した新たな商品データを作成せよ。なお、中央値については1円未満を丸めること（四捨五入または偶数への丸めで良い）。補完実施後、各項目について欠損が生じていないことも確認すること。"
   ]
  },
  {
   "cell_type": "code",
   "execution_count": null,
   "metadata": {},
   "outputs": [],
   "source": []
  },
  {
   "cell_type": "markdown",
   "metadata": {},
   "source": [
    "---\n",
    "> P-094: 093で作成したカテゴリ名付き商品データを以下の仕様でファイル出力せよ。\n",
    ">\n",
    "> |ファイル形式|ヘッダ有無|文字エンコーディング|\n",
    "> |:--:|:--:|:--:|\n",
    "> |CSV（カンマ区切り）|有り|UTF-8|\n",
    "> \n",
    "> ファイル出力先のパスは以下のようにすること\n",
    "> \n",
    "> |出力先|\n",
    "> |:--:|\n",
    "> |./data|"
   ]
  },
  {
   "cell_type": "code",
   "execution_count": null,
   "metadata": {},
   "outputs": [],
   "source": []
  },
  {
   "cell_type": "markdown",
   "metadata": {},
   "source": [
    "---\n",
    "> P-095: 093で作成したカテゴリ名付き商品データを以下の仕様でファイル出力せよ。\n",
    ">\n",
    "> |ファイル形式|ヘッダ有無|文字エンコーディング|\n",
    "> |:--:|:--:|:--:|\n",
    "> |CSV（カンマ区切り）|有り|CP932|\n",
    "> \n",
    "> ファイル出力先のパスは以下のようにすること。\n",
    "> \n",
    "> |出力先|\n",
    "> |:--:|\n",
    "> |./data|"
   ]
  },
  {
   "cell_type": "code",
   "execution_count": null,
   "metadata": {},
   "outputs": [],
   "source": []
  },
  {
   "cell_type": "markdown",
   "metadata": {},
   "source": [
    "---\n",
    "> P-097: 094で作成した以下形式のファイルを読み込み、データを3件を表示させて正しく取り込まれていることを確認せよ。\n",
    "> \n",
    "> |ファイル形式|ヘッダ有無|文字エンコーディング|\n",
    "> |:--:|:--:|:--:|\n",
    "> |CSV（カンマ区切り）|有り|UTF-8|"
   ]
  },
  {
   "cell_type": "code",
   "execution_count": null,
   "metadata": {},
   "outputs": [],
   "source": []
  },
  {
   "cell_type": "markdown",
   "metadata": {},
   "source": [
    "---\n",
    "> P-099: 093で作成したカテゴリ名付き商品データを以下の仕様でファイル出力せよ。\n",
    ">\n",
    "> |ファイル形式|ヘッダ有無|文字エンコーディング|\n",
    "> |:--:|:--:|:--:|\n",
    "> |TSV（タブ区切り）|有り|UTF-8|\n",
    "> \n",
    "> ファイル出力先のパスは以下のようにすること\n",
    "> \n",
    "> |出力先|\n",
    "> |:--:|\n",
    "> |./data|"
   ]
  },
  {
   "cell_type": "code",
   "execution_count": null,
   "metadata": {},
   "outputs": [],
   "source": []
  },
  {
   "cell_type": "markdown",
   "metadata": {},
   "source": [
    "---\n",
    "> P-100: 099で作成した以下形式のファイルを読み込み、データを3件を表示させて正しく取り込まれていることを確認せよ。\n",
    "> \n",
    "> |ファイル形式|ヘッダ有無|文字エンコーディング|\n",
    "> |:--:|:--:|:--:|\n",
    "> |TSV（タブ区切り）|有り|UTF-8|"
   ]
  },
  {
   "cell_type": "code",
   "execution_count": null,
   "metadata": {},
   "outputs": [],
   "source": []
  },
  {
   "cell_type": "markdown",
   "metadata": {},
   "source": [
    "# これで１００本終わりです。おつかれさまでした！"
   ]
  }
 ],
 "metadata": {
  "kernelspec": {
   "display_name": "tech0",
   "language": "python",
   "name": "python3"
  },
  "language_info": {
   "codemirror_mode": {
    "name": "ipython",
    "version": 3
   },
   "file_extension": ".py",
   "mimetype": "text/x-python",
   "name": "python",
   "nbconvert_exporter": "python",
   "pygments_lexer": "ipython3",
   "version": "3.9.7"
  },
  "vscode": {
   "interpreter": {
    "hash": "14498c2693dbacc748b33ada8a31e4cf5c4288efbd86c8d200c58bb6fc8893c8"
   }
  }
 },
 "nbformat": 4,
 "nbformat_minor": 4
}
